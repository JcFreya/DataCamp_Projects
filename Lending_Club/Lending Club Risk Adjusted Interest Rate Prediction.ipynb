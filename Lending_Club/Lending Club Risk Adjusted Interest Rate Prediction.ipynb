{
 "cells": [
  {
   "cell_type": "markdown",
   "metadata": {},
   "source": [
    "# Lending Club Risk Adjusted Interest Rate Prediction\n",
    "__Fan Yuan__  \n",
    "__04/14/2019__"
   ]
  },
  {
   "cell_type": "code",
   "execution_count": 178,
   "metadata": {
    "scrolled": true
   },
   "outputs": [],
   "source": [
    "# import libraries\n",
    "library(tidyverse)\n",
    "library(zoo)"
   ]
  },
  {
   "cell_type": "code",
   "execution_count": 179,
   "metadata": {},
   "outputs": [],
   "source": [
    "# load in raw data\n",
    "loan <- read.csv('./LoanStats_securev1_2018Q4.csv', header = TRUE, stringsAsFactors = FALSE, skip = 1)\n",
    "loanBP <- loan"
   ]
  },
  {
   "cell_type": "code",
   "execution_count": 180,
   "metadata": {},
   "outputs": [
    {
     "data": {
      "text/html": [
       "<table>\n",
       "<thead><tr><th scope=col>id</th><th scope=col>member_id</th><th scope=col>loan_amnt</th><th scope=col>funded_amnt</th><th scope=col>funded_amnt_inv</th><th scope=col>term</th><th scope=col>int_rate</th><th scope=col>installment</th><th scope=col>grade</th><th scope=col>sub_grade</th><th scope=col>⋯</th><th scope=col>hardship_payoff_balance_amount</th><th scope=col>hardship_last_payment_amount</th><th scope=col>disbursement_method</th><th scope=col>debt_settlement_flag</th><th scope=col>debt_settlement_flag_date</th><th scope=col>settlement_status</th><th scope=col>settlement_date</th><th scope=col>settlement_amount</th><th scope=col>settlement_percentage</th><th scope=col>settlement_term</th></tr></thead>\n",
       "<tbody>\n",
       "\t<tr><td>145217616 </td><td>NA        </td><td>10000     </td><td>10000     </td><td>10000     </td><td> 36 months</td><td> 10.33%   </td><td>324.23    </td><td>B         </td><td>B1        </td><td>⋯         </td><td>NA        </td><td>NA        </td><td>DirectPay </td><td>N         </td><td>          </td><td>          </td><td>          </td><td>NA        </td><td>NA        </td><td>NA        </td></tr>\n",
       "\t<tr><td>145640422 </td><td>NA        </td><td> 2500     </td><td> 2500     </td><td> 2500     </td><td> 36 months</td><td> 13.56%   </td><td> 84.92    </td><td>C         </td><td>C1        </td><td>⋯         </td><td>NA        </td><td>NA        </td><td>Cash      </td><td>N         </td><td>          </td><td>          </td><td>          </td><td>NA        </td><td>NA        </td><td>NA        </td></tr>\n",
       "\t<tr><td>145630143 </td><td>NA        </td><td>12000     </td><td>12000     </td><td>12000     </td><td> 60 months</td><td> 13.56%   </td><td>276.49    </td><td>C         </td><td>C1        </td><td>⋯         </td><td>NA        </td><td>NA        </td><td>Cash      </td><td>N         </td><td>          </td><td>          </td><td>          </td><td>NA        </td><td>NA        </td><td>NA        </td></tr>\n",
       "\t<tr><td>145127870 </td><td>NA        </td><td>15000     </td><td>15000     </td><td>14975     </td><td> 60 months</td><td> 14.47%   </td><td>352.69    </td><td>C         </td><td>C2        </td><td>⋯         </td><td>NA        </td><td>NA        </td><td>Cash      </td><td>N         </td><td>          </td><td>          </td><td>          </td><td>NA        </td><td>NA        </td><td>NA        </td></tr>\n",
       "\t<tr><td>145558466 </td><td>NA        </td><td>16000     </td><td>16000     </td><td>16000     </td><td> 60 months</td><td> 17.97%   </td><td>406.04    </td><td>D         </td><td>D1        </td><td>⋯         </td><td>NA        </td><td>NA        </td><td>Cash      </td><td>N         </td><td>          </td><td>          </td><td>          </td><td>NA        </td><td>NA        </td><td>NA        </td></tr>\n",
       "\t<tr><td>145509846 </td><td>NA        </td><td> 9600     </td><td> 9600     </td><td> 9600     </td><td> 36 months</td><td> 23.40%   </td><td>373.62    </td><td>E         </td><td>E1        </td><td>⋯         </td><td>NA        </td><td>NA        </td><td>Cash      </td><td>N         </td><td>          </td><td>          </td><td>          </td><td>NA        </td><td>NA        </td><td>NA        </td></tr>\n",
       "</tbody>\n",
       "</table>\n"
      ],
      "text/latex": [
       "\\begin{tabular}{r|lllllllllllllllllllllllllllllllllllllllllllllllllllllllllllllllllllllllllllllllllllllllllllllllllllllllllllllllllllllllllllllllllllllllllllllllllllllll}\n",
       " id & member\\_id & loan\\_amnt & funded\\_amnt & funded\\_amnt\\_inv & term & int\\_rate & installment & grade & sub\\_grade & ⋯ & hardship\\_payoff\\_balance\\_amount & hardship\\_last\\_payment\\_amount & disbursement\\_method & debt\\_settlement\\_flag & debt\\_settlement\\_flag\\_date & settlement\\_status & settlement\\_date & settlement\\_amount & settlement\\_percentage & settlement\\_term\\\\\n",
       "\\hline\n",
       "\t 145217616  & NA         & 10000      & 10000      & 10000      &  36 months &  10.33\\%  & 324.23     & B          & B1         & ⋯          & NA         & NA         & DirectPay  & N          &            &            &            & NA         & NA         & NA        \\\\\n",
       "\t 145640422  & NA         &  2500      &  2500      &  2500      &  36 months &  13.56\\%  &  84.92     & C          & C1         & ⋯          & NA         & NA         & Cash       & N          &            &            &            & NA         & NA         & NA        \\\\\n",
       "\t 145630143  & NA         & 12000      & 12000      & 12000      &  60 months &  13.56\\%  & 276.49     & C          & C1         & ⋯          & NA         & NA         & Cash       & N          &            &            &            & NA         & NA         & NA        \\\\\n",
       "\t 145127870  & NA         & 15000      & 15000      & 14975      &  60 months &  14.47\\%  & 352.69     & C          & C2         & ⋯          & NA         & NA         & Cash       & N          &            &            &            & NA         & NA         & NA        \\\\\n",
       "\t 145558466  & NA         & 16000      & 16000      & 16000      &  60 months &  17.97\\%  & 406.04     & D          & D1         & ⋯          & NA         & NA         & Cash       & N          &            &            &            & NA         & NA         & NA        \\\\\n",
       "\t 145509846  & NA         &  9600      &  9600      &  9600      &  36 months &  23.40\\%  & 373.62     & E          & E1         & ⋯          & NA         & NA         & Cash       & N          &            &            &            & NA         & NA         & NA        \\\\\n",
       "\\end{tabular}\n"
      ],
      "text/markdown": [
       "\n",
       "| id | member_id | loan_amnt | funded_amnt | funded_amnt_inv | term | int_rate | installment | grade | sub_grade | ⋯ | hardship_payoff_balance_amount | hardship_last_payment_amount | disbursement_method | debt_settlement_flag | debt_settlement_flag_date | settlement_status | settlement_date | settlement_amount | settlement_percentage | settlement_term |\n",
       "|---|---|---|---|---|---|---|---|---|---|---|---|---|---|---|---|---|---|---|---|---|\n",
       "| 145217616  | NA         | 10000      | 10000      | 10000      |  36 months |  10.33%    | 324.23     | B          | B1         | ⋯          | NA         | NA         | DirectPay  | N          |            |            |            | NA         | NA         | NA         |\n",
       "| 145640422  | NA         |  2500      |  2500      |  2500      |  36 months |  13.56%    |  84.92     | C          | C1         | ⋯          | NA         | NA         | Cash       | N          |            |            |            | NA         | NA         | NA         |\n",
       "| 145630143  | NA         | 12000      | 12000      | 12000      |  60 months |  13.56%    | 276.49     | C          | C1         | ⋯          | NA         | NA         | Cash       | N          |            |            |            | NA         | NA         | NA         |\n",
       "| 145127870  | NA         | 15000      | 15000      | 14975      |  60 months |  14.47%    | 352.69     | C          | C2         | ⋯          | NA         | NA         | Cash       | N          |            |            |            | NA         | NA         | NA         |\n",
       "| 145558466  | NA         | 16000      | 16000      | 16000      |  60 months |  17.97%    | 406.04     | D          | D1         | ⋯          | NA         | NA         | Cash       | N          |            |            |            | NA         | NA         | NA         |\n",
       "| 145509846  | NA         |  9600      |  9600      |  9600      |  36 months |  23.40%    | 373.62     | E          | E1         | ⋯          | NA         | NA         | Cash       | N          |            |            |            | NA         | NA         | NA         |\n",
       "\n"
      ],
      "text/plain": [
       "  id        member_id loan_amnt funded_amnt funded_amnt_inv term       int_rate\n",
       "1 145217616 NA        10000     10000       10000            36 months  10.33% \n",
       "2 145640422 NA         2500      2500        2500            36 months  13.56% \n",
       "3 145630143 NA        12000     12000       12000            60 months  13.56% \n",
       "4 145127870 NA        15000     15000       14975            60 months  14.47% \n",
       "5 145558466 NA        16000     16000       16000            60 months  17.97% \n",
       "6 145509846 NA         9600      9600        9600            36 months  23.40% \n",
       "  installment grade sub_grade ⋯ hardship_payoff_balance_amount\n",
       "1 324.23      B     B1        ⋯ NA                            \n",
       "2  84.92      C     C1        ⋯ NA                            \n",
       "3 276.49      C     C1        ⋯ NA                            \n",
       "4 352.69      C     C2        ⋯ NA                            \n",
       "5 406.04      D     D1        ⋯ NA                            \n",
       "6 373.62      E     E1        ⋯ NA                            \n",
       "  hardship_last_payment_amount disbursement_method debt_settlement_flag\n",
       "1 NA                           DirectPay           N                   \n",
       "2 NA                           Cash                N                   \n",
       "3 NA                           Cash                N                   \n",
       "4 NA                           Cash                N                   \n",
       "5 NA                           Cash                N                   \n",
       "6 NA                           Cash                N                   \n",
       "  debt_settlement_flag_date settlement_status settlement_date settlement_amount\n",
       "1                                                             NA               \n",
       "2                                                             NA               \n",
       "3                                                             NA               \n",
       "4                                                             NA               \n",
       "5                                                             NA               \n",
       "6                                                             NA               \n",
       "  settlement_percentage settlement_term\n",
       "1 NA                    NA             \n",
       "2 NA                    NA             \n",
       "3 NA                    NA             \n",
       "4 NA                    NA             \n",
       "5 NA                    NA             \n",
       "6 NA                    NA             "
      ]
     },
     "metadata": {},
     "output_type": "display_data"
    }
   ],
   "source": [
    "# explore the data\n",
    "head(loan)"
   ]
  },
  {
   "cell_type": "code",
   "execution_count": 181,
   "metadata": {
    "scrolled": true
   },
   "outputs": [
    {
     "name": "stdout",
     "output_type": "stream",
     "text": [
      "'data.frame':\t128414 obs. of  151 variables:\n",
      " $ id                                        : chr  \"145217616\" \"145640422\" \"145630143\" \"145127870\" ...\n",
      " $ member_id                                 : logi  NA NA NA NA NA NA ...\n",
      " $ loan_amnt                                 : int  10000 2500 12000 15000 16000 9600 4000 3500 9600 8000 ...\n",
      " $ funded_amnt                               : int  10000 2500 12000 15000 16000 9600 4000 3500 9600 8000 ...\n",
      " $ funded_amnt_inv                           : num  10000 2500 12000 14975 16000 ...\n",
      " $ term                                      : chr  \" 36 months\" \" 36 months\" \" 60 months\" \" 60 months\" ...\n",
      " $ int_rate                                  : chr  \" 10.33%\" \" 13.56%\" \" 13.56%\" \" 14.47%\" ...\n",
      " $ installment                               : num  324.2 84.9 276.5 352.7 406 ...\n",
      " $ grade                                     : chr  \"B\" \"C\" \"C\" \"C\" ...\n",
      " $ sub_grade                                 : chr  \"B1\" \"C1\" \"C1\" \"C2\" ...\n",
      " $ emp_title                                 : chr  \"\" \"Chef\" \"\" \"\" ...\n",
      " $ emp_length                                : chr  \"< 1 year\" \"10+ years\" \"< 1 year\" \"n/a\" ...\n",
      " $ home_ownership                            : chr  \"MORTGAGE\" \"RENT\" \"MORTGAGE\" \"MORTGAGE\" ...\n",
      " $ annual_inc                                : num  280000 55000 40000 30000 51000 ...\n",
      " $ verification_status                       : chr  \"Not Verified\" \"Not Verified\" \"Not Verified\" \"Source Verified\" ...\n",
      " $ issue_d                                   : chr  \"Dec-2018\" \"Dec-2018\" \"Dec-2018\" \"Dec-2018\" ...\n",
      " $ loan_status                               : chr  \"Current\" \"Current\" \"Current\" \"Current\" ...\n",
      " $ pymnt_plan                                : chr  \"n\" \"n\" \"n\" \"n\" ...\n",
      " $ url                                       : chr  \"https://lendingclub.com/browse/loanDetail.action?loan_id=145217616\" \"https://lendingclub.com/browse/loanDetail.action?loan_id=145640422\" \"https://lendingclub.com/browse/loanDetail.action?loan_id=145630143\" \"https://lendingclub.com/browse/loanDetail.action?loan_id=145127870\" ...\n",
      " $ desc                                      : logi  NA NA NA NA NA NA ...\n",
      " $ purpose                                   : chr  \"debt_consolidation\" \"debt_consolidation\" \"debt_consolidation\" \"debt_consolidation\" ...\n",
      " $ title                                     : chr  \"Debt consolidation\" \"Debt consolidation\" \"Debt consolidation\" \"Debt consolidation\" ...\n",
      " $ zip_code                                  : chr  \"974xx\" \"109xx\" \"180xx\" \"756xx\" ...\n",
      " $ addr_state                                : chr  \"OR\" \"NY\" \"PA\" \"TX\" ...\n",
      " $ dti                                       : num  6.15 18.24 19.23 41.6 21.91 ...\n",
      " $ delinq_2yrs                               : int  2 0 0 0 0 1 0 0 0 0 ...\n",
      " $ earliest_cr_line                          : chr  \"Jan-1996\" \"Apr-2001\" \"Aug-2005\" \"Oct-1999\" ...\n",
      " $ fico_range_low                            : int  700 665 695 725 710 670 730 675 720 685 ...\n",
      " $ fico_range_high                           : int  704 669 699 729 714 674 734 679 724 689 ...\n",
      " $ inq_last_6mths                            : int  0 1 2 0 1 0 4 1 0 0 ...\n",
      " $ mths_since_last_delinq                    : int  18 NA NA NA 52 16 59 24 69 NA ...\n",
      " $ mths_since_last_record                    : int  NA 45 NA NA NA NA NA NA NA 107 ...\n",
      " $ open_acc                                  : int  14 9 8 20 11 12 15 4 5 8 ...\n",
      " $ pub_rec                                   : int  0 1 0 0 0 0 0 0 0 1 ...\n",
      " $ revol_bal                                 : int  9082 4341 23195 20049 7326 10678 5199 1944 748 9019 ...\n",
      " $ revol_util                                : chr  \"38%\" \"10.3%\" \"55.5%\" \"37.2%\" ...\n",
      " $ total_acc                                 : int  23 34 9 30 27 20 20 18 23 16 ...\n",
      " $ initial_list_status                       : chr  \"w\" \"w\" \"w\" \"f\" ...\n",
      " $ out_prncp                                 : num  9522 2386 11717 14655 15665 ...\n",
      " $ out_prncp_inv                             : num  9522 2386 11717 14630 15665 ...\n",
      " $ total_pymnt                               : num  640 167 539 687 788 ...\n",
      " $ total_pymnt_inv                           : num  640 167 539 686 788 ...\n",
      " $ total_rec_prncp                           : num  478 114 283 345 335 ...\n",
      " $ total_rec_int                             : num  162 53 256 342 453 ...\n",
      " $ total_rec_late_fee                        : num  0 0 0 0 0 0 0 0 0 0 ...\n",
      " $ recoveries                                : num  0 0 0 0 0 0 0 0 0 0 ...\n",
      " $ collection_recovery_fee                   : num  0 0 0 0 0 0 0 0 0 0 ...\n",
      " $ last_pymnt_d                              : chr  \"Feb-2019\" \"Feb-2019\" \"Feb-2019\" \"Feb-2019\" ...\n",
      " $ last_pymnt_amnt                           : num  324.2 84.9 276.5 352.7 406 ...\n",
      " $ next_pymnt_d                              : chr  \"Apr-2019\" \"Apr-2019\" \"Apr-2019\" \"Apr-2019\" ...\n",
      " $ last_credit_pull_d                        : chr  \"Mar-2019\" \"Mar-2019\" \"Mar-2019\" \"Mar-2019\" ...\n",
      " $ last_fico_range_high                      : int  734 654 694 749 734 694 694 684 714 739 ...\n",
      " $ last_fico_range_low                       : int  730 650 690 745 730 690 690 680 710 735 ...\n",
      " $ collections_12_mths_ex_med                : int  0 0 0 0 0 0 0 0 0 0 ...\n",
      " $ mths_since_last_major_derog               : int  NA NA NA NA 52 NA NA 48 NA NA ...\n",
      " $ policy_code                               : int  1 1 1 1 1 1 1 1 1 1 ...\n",
      " $ application_type                          : chr  \"Individual\" \"Individual\" \"Individual\" \"Joint App\" ...\n",
      " $ annual_inc_joint                          : num  NA NA NA 55000 NA NA NA 59500 NA NA ...\n",
      " $ dti_joint                                 : num  NA NA NA 35 NA ...\n",
      " $ verification_status_joint                 : chr  \"\" \"\" \"\" \"Source Verified\" ...\n",
      " $ acc_now_delinq                            : int  0 0 0 0 0 0 0 0 0 0 ...\n",
      " $ tot_coll_amt                              : int  671 0 0 0 0 66 0 0 0 0 ...\n",
      " $ tot_cur_bal                               : int  246828 16901 32462 65496 39339 24165 66926 189794 748 169223 ...\n",
      " $ open_acc_6m                               : int  1 2 1 1 3 0 5 1 0 0 ...\n",
      " $ open_act_il                               : int  3 2 1 1 8 2 4 1 0 3 ...\n",
      " $ open_il_12m                               : int  2 1 1 0 2 0 3 1 0 2 ...\n",
      " $ open_il_24m                               : int  3 2 1 1 2 0 4 1 0 2 ...\n",
      " $ mths_since_rcnt_il                        : int  1 2 4 16 2 43 5 7 44 7 ...\n",
      " $ total_bal_il                              : int  48552 12560 9267 4458 32013 13487 61727 24958 0 22059 ...\n",
      " $ il_util                                   : int  62 69 103 31 83 33 86 100 NA 69 ...\n",
      " $ open_rv_12m                               : int  1 2 2 1 1 1 6 2 0 0 ...\n",
      " $ open_rv_24m                               : int  3 7 2 1 1 1 11 2 3 0 ...\n",
      " $ max_bal_bc                                : int  4923 2137 9747 3616 3881 2264 1353 1317 748 2174 ...\n",
      " $ all_util                                  : int  46 28 64 36 58 35 68 87 12 72 ...\n",
      " $ total_rev_hi_lim                          : int  23900 42000 41800 53900 29500 28500 27100 5800 6500 11100 ...\n",
      " $ inq_fi                                    : int  2 1 1 0 0 0 4 1 0 1 ...\n",
      " $ total_cu_tl                               : int  7 11 0 2 0 0 0 0 0 1 ...\n",
      " $ inq_last_12m                              : int  1 2 3 0 1 0 4 3 1 1 ...\n",
      " $ acc_open_past_24mths                      : int  7 9 3 2 3 1 15 3 3 2 ...\n",
      " $ avg_cur_bal                               : int  17631 1878 4058 3275 3576 2014 4462 47449 150 21153 ...\n",
      " $ bc_open_to_buy                            : int  11897 34360 16601 2545 22174 232 20174 3683 3452 126 ...\n",
      " $ bc_util                                   : num  43.1 5.9 54.9 74.3 24.8 96.9 7.9 26.3 17.8 94.5 ...\n",
      " $ chargeoff_within_12_mths                  : int  0 0 0 0 0 0 0 0 0 0 ...\n",
      " $ delinq_amnt                               : int  0 0 0 0 0 0 0 0 0 0 ...\n",
      " $ mo_sin_old_il_acct                        : int  158 140 4 149 123 183 147 150 181 148 ...\n",
      " $ mo_sin_old_rev_tl_op                      : int  275 212 149 230 158 92 118 170 100 287 ...\n",
      " $ mo_sin_rcnt_rev_tl_op                     : int  11 1 9 6 6 12 2 1 13 44 ...\n",
      " $ mo_sin_rcnt_tl                            : int  1 1 4 6 2 12 2 1 13 7 ...\n",
      " $ mort_acc                                  : int  1 0 1 1 0 0 0 4 0 1 ...\n",
      " $ mths_since_recent_bc                      : int  11 1 10 31 6 27 2 8 16 51 ...\n",
      " $ mths_since_recent_bc_dlq                  : int  NA NA NA NA 52 NA NA 48 NA NA ...\n",
      " $ mths_since_recent_inq                     : int  11 2 4 NA 4 15 0 1 3 7 ...\n",
      " $ mths_since_recent_revol_delinq            : int  NA NA NA NA 52 30 NA 48 NA NA ...\n",
      " $ num_accts_ever_120_pd                     : int  0 0 0 0 6 0 0 2 0 0 ...\n",
      " $ num_actv_bc_tl                            : int  3 2 5 4 2 7 5 1 1 1 ...\n",
      " $ num_actv_rev_tl                           : int  4 5 6 13 2 9 7 2 1 4 ...\n",
      " $ num_bc_sats                               : int  7 3 5 4 3 7 9 1 2 1 ...\n",
      " $ num_bc_tl                                 : int  7 3 5 5 6 8 9 8 2 2 ...\n",
      " $ num_il_tl                                 : int  10 16 1 8 21 8 8 3 16 8 ...\n",
      "  [list output truncated]\n"
     ]
    }
   ],
   "source": [
    "# get an idea of data structure\n",
    "str(loan)"
   ]
  },
  {
   "cell_type": "code",
   "execution_count": 182,
   "metadata": {},
   "outputs": [
    {
     "data": {
      "text/html": [
       "<table>\n",
       "<thead><tr><th scope=col>issue_d</th><th scope=col>last_pymnt_d</th><th scope=col>next_pymnt_d</th></tr></thead>\n",
       "<tbody>\n",
       "\t<tr><td>Dec-2018</td><td>Feb-2019</td><td>Apr-2019</td></tr>\n",
       "\t<tr><td>Dec-2018</td><td>Feb-2019</td><td>Apr-2019</td></tr>\n",
       "\t<tr><td>Dec-2018</td><td>Feb-2019</td><td>Apr-2019</td></tr>\n",
       "\t<tr><td>Dec-2018</td><td>Feb-2019</td><td>Apr-2019</td></tr>\n",
       "\t<tr><td>Dec-2018</td><td>Feb-2019</td><td>Apr-2019</td></tr>\n",
       "\t<tr><td>Dec-2018</td><td>Feb-2019</td><td>Apr-2019</td></tr>\n",
       "</tbody>\n",
       "</table>\n"
      ],
      "text/latex": [
       "\\begin{tabular}{r|lll}\n",
       " issue\\_d & last\\_pymnt\\_d & next\\_pymnt\\_d\\\\\n",
       "\\hline\n",
       "\t Dec-2018 & Feb-2019 & Apr-2019\\\\\n",
       "\t Dec-2018 & Feb-2019 & Apr-2019\\\\\n",
       "\t Dec-2018 & Feb-2019 & Apr-2019\\\\\n",
       "\t Dec-2018 & Feb-2019 & Apr-2019\\\\\n",
       "\t Dec-2018 & Feb-2019 & Apr-2019\\\\\n",
       "\t Dec-2018 & Feb-2019 & Apr-2019\\\\\n",
       "\\end{tabular}\n"
      ],
      "text/markdown": [
       "\n",
       "| issue_d | last_pymnt_d | next_pymnt_d |\n",
       "|---|---|---|\n",
       "| Dec-2018 | Feb-2019 | Apr-2019 |\n",
       "| Dec-2018 | Feb-2019 | Apr-2019 |\n",
       "| Dec-2018 | Feb-2019 | Apr-2019 |\n",
       "| Dec-2018 | Feb-2019 | Apr-2019 |\n",
       "| Dec-2018 | Feb-2019 | Apr-2019 |\n",
       "| Dec-2018 | Feb-2019 | Apr-2019 |\n",
       "\n"
      ],
      "text/plain": [
       "  issue_d  last_pymnt_d next_pymnt_d\n",
       "1 Dec-2018 Feb-2019     Apr-2019    \n",
       "2 Dec-2018 Feb-2019     Apr-2019    \n",
       "3 Dec-2018 Feb-2019     Apr-2019    \n",
       "4 Dec-2018 Feb-2019     Apr-2019    \n",
       "5 Dec-2018 Feb-2019     Apr-2019    \n",
       "6 Dec-2018 Feb-2019     Apr-2019    "
      ]
     },
     "metadata": {},
     "output_type": "display_data"
    }
   ],
   "source": [
    "head(loan[, c('issue_d', 'last_pymnt_d', 'next_pymnt_d')])"
   ]
  },
  {
   "cell_type": "code",
   "execution_count": 183,
   "metadata": {},
   "outputs": [
    {
     "data": {
      "text/html": [
       "<ol class=list-inline>\n",
       "\t<li>5032</li>\n",
       "\t<li>151</li>\n",
       "</ol>\n"
      ],
      "text/latex": [
       "\\begin{enumerate*}\n",
       "\\item 5032\n",
       "\\item 151\n",
       "\\end{enumerate*}\n"
      ],
      "text/markdown": [
       "1. 5032\n",
       "2. 151\n",
       "\n",
       "\n"
      ],
      "text/plain": [
       "[1] 5032  151"
      ]
     },
     "metadata": {},
     "output_type": "display_data"
    }
   ],
   "source": [
    "# There are \"\" in the next_pymnt_d, why? Actually also for last_pymnt_d.\n",
    "dim(subset(loan, next_pymnt_d == \"\"))"
   ]
  },
  {
   "cell_type": "code",
   "execution_count": 184,
   "metadata": {},
   "outputs": [
    {
     "data": {
      "text/plain": [
       "loan_status\n",
       "            Charged Off  Fully Paid \n",
       "          2         122        4908 "
      ]
     },
     "metadata": {},
     "output_type": "display_data"
    },
    {
     "data": {
      "text/plain": [
       "loan_status\n",
       "            Charged Off \n",
       "          2          61 "
      ]
     },
     "metadata": {},
     "output_type": "display_data"
    }
   ],
   "source": [
    "with(subset(loan, next_pymnt_d == \"\"), table(loan_status)) # either charged off or fully paid\n",
    "\n",
    "with(subset(loan, next_pymnt_d == \"\" & last_pymnt_d == \"\"), table(loan_status)) # all charged off"
   ]
  },
  {
   "cell_type": "code",
   "execution_count": 185,
   "metadata": {},
   "outputs": [
    {
     "data": {
      "text/plain": [
       "loan_status\n",
       "                          Charged Off Late (31-120 days) \n",
       "                 2                 61                102 "
      ]
     },
     "metadata": {},
     "output_type": "display_data"
    },
    {
     "data": {
      "text/plain": [
       "   Min. 1st Qu.  Median    Mean 3rd Qu.    Max.    NA's \n",
       "      0       0       0       0       0       0       2 "
      ]
     },
     "metadata": {},
     "output_type": "display_data"
    }
   ],
   "source": [
    "with(subset(loan, last_pymnt_d == \"\"), table(loan_status))\n",
    "# explore the mean of last month payment of users who didn't pay\n",
    "summary(subset(loan, last_pymnt_d == \"\")$last_pymnt_amnt)"
   ]
  },
  {
   "cell_type": "code",
   "execution_count": 186,
   "metadata": {},
   "outputs": [
    {
     "data": {
      "text/plain": [
       "\n",
       "            Charged Off \n",
       "          2          61 "
      ]
     },
     "metadata": {},
     "output_type": "display_data"
    },
    {
     "data": {
      "text/plain": [
       "\n",
       "Charged Off  Fully Paid \n",
       "         61        4908 "
      ]
     },
     "metadata": {},
     "output_type": "display_data"
    },
    {
     "data": {
      "text/plain": [
       "\n",
       "Late (31-120 days) \n",
       "               102 "
      ]
     },
     "metadata": {},
     "output_type": "display_data"
    },
    {
     "data": {
      "text/plain": [
       "\n",
       "           Current    In Grace Period  Late (16-30 days) Late (31-120 days) \n",
       "            121676                513                344                747 "
      ]
     },
     "metadata": {},
     "output_type": "display_data"
    }
   ],
   "source": [
    "table(subset(loan, next_pymnt_d == \"\" & last_pymnt_d == \"\")$loan_status) # all charged off\n",
    "table(subset(loan, next_pymnt_d == \"\" & last_pymnt_d != \"\")$loan_status) # charged off or fully paid\n",
    "table(subset(loan, next_pymnt_d != \"\" & last_pymnt_d == \"\")$loan_status) # no loan satisfy this.\n",
    "table(subset(loan, next_pymnt_d != \"\" & last_pymnt_d != \"\")$loan_status)"
   ]
  },
  {
   "cell_type": "code",
   "execution_count": 187,
   "metadata": {
    "scrolled": true
   },
   "outputs": [
    {
     "data": {
      "text/plain": [
       "\n",
       "                          Charged Off            Current         Fully Paid \n",
       "                 2                122             121676               4908 \n",
       "   In Grace Period  Late (16-30 days) Late (31-120 days) \n",
       "               513                344                849 "
      ]
     },
     "metadata": {},
     "output_type": "display_data"
    }
   ],
   "source": [
    "# take a look at how loan_status distribute\n",
    "table(loan$loan_status)\n",
    "\n",
    "# clean up the blank loan_status\n",
    "loan <- subset(loan, loan_status != \"\")"
   ]
  },
  {
   "cell_type": "markdown",
   "metadata": {},
   "source": [
    "### Candidate analysis question\n",
    "### 1) At which phase, payment is likely to be missed\n",
    "### 2) Upon loan initial application, predict whether it will be charge off or default\n",
    "### 3) Throughout loan payment period, predict whether next payment will be missing, or in next quater, whether loan status will be changed"
   ]
  },
  {
   "cell_type": "code",
   "execution_count": 188,
   "metadata": {},
   "outputs": [],
   "source": [
    "# clean up the date format and manipulate some more time features\n",
    "loan$issue_d_1 <- as.Date(as.yearmon(loan$issue_d, \"%b-%Y\"))\n",
    "loan$issue_year <- as.character(format(loan$issue_d_1, \"%Y\"))\n",
    "loan$issue_month <- as.character(format(loan$issue_d_1, \"%m\"))"
   ]
  },
  {
   "cell_type": "code",
   "execution_count": 189,
   "metadata": {},
   "outputs": [],
   "source": [
    "# clean up the date format and manipulate some more time features\n",
    "loan$last_pymnt_d_1 <- as.Date(as.yearmon(loan$last_pymnt_d, \"%b-%Y\"))\n",
    "loan$last_pymnt_year <- as.character(format(loan$last_pymnt_d_1, \"%Y\"))\n",
    "loan$last_pymnt_mon <- as.character(format(format(loan$last_pymnt_d_1,\"%m\")))"
   ]
  },
  {
   "cell_type": "code",
   "execution_count": 190,
   "metadata": {},
   "outputs": [
    {
     "data": {
      "text/plain": [
       "\n",
       "    0    30    31    61    62    90    92   120   123   151 \n",
       "  650   457  1011   899  3166 36167  3375 37927  4103 40494 "
      ]
     },
     "metadata": {},
     "output_type": "display_data"
    },
    {
     "data": {
      "text/plain": [
       "\n",
       "  (-1,0]   (0,92] (92,184] \n",
       "     650    45075    82524 "
      ]
     },
     "metadata": {},
     "output_type": "display_data"
    }
   ],
   "source": [
    "# generate a new feature -- time between last payment and issue date\n",
    "loan$last_pymnt_from_issue <- with(loan, last_pymnt_d_1 - issue_d_1)\n",
    "table(loan$last_pymnt_from_issue)\n",
    "loan$last_pymnt_from_issue_cat <- with(loan, as.character(cut(as.numeric(last_pymnt_from_issue),\n",
    "                                                            c(-1, 0, 92, 184, 275, 366, 457, 549, 639, 730))))\n",
    "table(loan$last_pymnt_from_issue_cat)"
   ]
  },
  {
   "cell_type": "code",
   "execution_count": 191,
   "metadata": {},
   "outputs": [
    {
     "data": {
      "text/plain": [
       "\n",
       "    \n",
       "163 "
      ]
     },
     "metadata": {},
     "output_type": "display_data"
    }
   ],
   "source": [
    "# dig deep on NA value\n",
    "table(subset(loan, is.na(last_pymnt_from_issue_cat))$last_pymnt_d)\n",
    "# there are about 163 have no payment at all, need to clean up the code\n",
    "loan$last_pymnt_from_issue[which(is.na(loan$last_pymnt_from_issue))] <- 2000\n",
    "loan$last_pymnt_from_issue_cat[which(is.na(loan$last_pymnt_from_issue_cat))] <- 'no pymnt'"
   ]
  },
  {
   "cell_type": "code",
   "execution_count": 192,
   "metadata": {},
   "outputs": [
    {
     "data": {
      "text/plain": [
       "                         loan_status\n",
       "last_pymnt_from_issue_cat Charged Off Current Fully Paid In Grace Period\n",
       "                 (-1,0]             1       0        649               0\n",
       "                 (0,92]            58   40664       3277             218\n",
       "                 (92,184]           2   81012        982             295\n",
       "                 no pymnt          61       0          0               0\n",
       "                         loan_status\n",
       "last_pymnt_from_issue_cat Late (16-30 days) Late (31-120 days)\n",
       "                 (-1,0]                   0                  0\n",
       "                 (0,92]                 209                649\n",
       "                 (92,184]               135                 98\n",
       "                 no pymnt                 0                102"
      ]
     },
     "metadata": {},
     "output_type": "display_data"
    }
   ],
   "source": [
    "by.pymnt.gap <- with(loan, table(last_pymnt_from_issue_cat, loan_status))\n",
    "by.pymnt.gap\n",
    "by.pymnt.gap <- by.pymnt.gap[c(\"(-1,0]\", \"(0,92]\", \"(92,184]\", \"no pymnt\"),\n",
    "                             c(\"Charged Off\",  \"Late (31-120 days)\",\n",
    "                               \"Late (16-30 days)\", \"In Grace Period\", \"Current\",\n",
    "                               \"Fully Paid\")]"
   ]
  },
  {
   "cell_type": "code",
   "execution_count": 193,
   "metadata": {},
   "outputs": [
    {
     "data": {
      "text/plain": [
       "                         loan_status\n",
       "last_pymnt_from_issue_cat Charged Off Late (31-120 days) Late (16-30 days)\n",
       "                 (-1,0]         0.154              0.000             0.000\n",
       "                 (0,92]         0.129              1.440             0.464\n",
       "                 (92,184]       0.002              0.119             0.164\n",
       "                 no pymnt      37.423             62.577             0.000\n",
       "                         loan_status\n",
       "last_pymnt_from_issue_cat In Grace Period Current Fully Paid\n",
       "                 (-1,0]             0.000   0.000     99.846\n",
       "                 (0,92]             0.484  90.214      7.270\n",
       "                 (92,184]           0.357  98.168      1.190\n",
       "                 no pymnt           0.000   0.000      0.000"
      ]
     },
     "metadata": {},
     "output_type": "display_data"
    }
   ],
   "source": [
    "round(100*by.pymnt.gap / apply(by.pymnt.gap, 1, sum), 3)"
   ]
  },
  {
   "cell_type": "code",
   "execution_count": 194,
   "metadata": {
    "scrolled": true
   },
   "outputs": [
    {
     "data": {
      "text/plain": [
       "\n",
       "Call:\n",
       "glm(formula = loan_status_binary ~ last_pymnt_from_issue_cat, \n",
       "    family = \"binomial\", data = loan)\n",
       "\n",
       "Deviance Residuals: \n",
       "    Min       1Q   Median       3Q      Max  \n",
       "-0.2257  -0.2257  -0.1135  -0.1135   3.5992  \n",
       "\n",
       "Coefficients:\n",
       "                                  Estimate Std. Error z value Pr(>|z|)\n",
       "(Intercept)                          15.57     114.00   0.137    0.891\n",
       "last_pymnt_from_issue_cat(-1,0]     -22.04     114.00  -0.193    0.847\n",
       "last_pymnt_from_issue_cat(0,92]     -19.22     114.00  -0.169    0.866\n",
       "last_pymnt_from_issue_cat(92,184]   -20.61     114.00  -0.181    0.857\n",
       "\n",
       "(Dispersion parameter for binomial family taken to be 1)\n",
       "\n",
       "    Null deviance: 19175  on 128411  degrees of freedom\n",
       "Residual deviance: 17014  on 128408  degrees of freedom\n",
       "AIC: 17022\n",
       "\n",
       "Number of Fisher Scoring iterations: 14\n"
      ]
     },
     "metadata": {},
     "output_type": "display_data"
    },
    {
     "data": {
      "text/plain": [
       "\n",
       "Call:\n",
       "glm(formula = loan_status_binary ~ last_pymnt_from_issue, family = \"binomial\", \n",
       "    data = loan)\n",
       "\n",
       "Deviance Residuals: \n",
       "    Min       1Q   Median       3Q      Max  \n",
       "-0.1715  -0.1715  -0.1635  -0.1561   3.0630  \n",
       "\n",
       "Coefficients:\n",
       "                        Estimate Std. Error z value Pr(>|z|)    \n",
       "(Intercept)           -4.6816910  0.0290346 -161.25   <2e-16 ***\n",
       "last_pymnt_from_issue  0.0031071  0.0001089   28.53   <2e-16 ***\n",
       "---\n",
       "Signif. codes:  0 ‘***’ 0.001 ‘**’ 0.01 ‘*’ 0.05 ‘.’ 0.1 ‘ ’ 1\n",
       "\n",
       "(Dispersion parameter for binomial family taken to be 1)\n",
       "\n",
       "    Null deviance: 19175  on 128411  degrees of freedom\n",
       "Residual deviance: 18164  on 128410  degrees of freedom\n",
       "AIC: 18168\n",
       "\n",
       "Number of Fisher Scoring iterations: 7\n"
      ]
     },
     "metadata": {},
     "output_type": "display_data"
    }
   ],
   "source": [
    "loan$last_pymnt_from_issue_cat <- relevel(as.factor(loan$last_pymnt_from_issue_cat), ref = 'no pymnt')\n",
    "loan$loan_status_binary <- as.factor(ifelse(loan$loan_status %in% c('Fully Paid', 'Current'), 'okay', 'past_due'))\n",
    "mod1 <- glm(loan_status_binary ~ last_pymnt_from_issue_cat, loan, family = 'binomial')\n",
    "summary(mod1)\n",
    "mod2 <- glm(loan_status_binary ~ last_pymnt_from_issue, loan, family = 'binomial')\n",
    "# consider use piecewise linear regression\n",
    "summary(mod2)\n"
   ]
  },
  {
   "cell_type": "code",
   "execution_count": 195,
   "metadata": {
    "scrolled": true
   },
   "outputs": [
    {
     "data": {
      "text/plain": [
       "                  last_pymnt_from_issue_cat\n",
       "loan_status_binary no pymnt (-1,0] (0,92] (92,184]\n",
       "          okay            0    649  43941    81994\n",
       "          past_due      163      1   1134      530"
      ]
     },
     "metadata": {},
     "output_type": "display_data"
    },
    {
     "data": {
      "text/plain": [
       "\n",
       "Call:\n",
       "glm(formula = loan_status_binary ~ last_pymnt_from_issue_cat, \n",
       "    family = \"binomial\", data = subset(loan, !last_pymnt_from_issue_cat %in% \n",
       "        c(\"no pymnt\", \"(-1,0]\")))\n",
       "\n",
       "Deviance Residuals: \n",
       "    Min       1Q   Median       3Q      Max  \n",
       "-0.2257  -0.2257  -0.1135  -0.1135   3.1774  \n",
       "\n",
       "Coefficients:\n",
       "                                  Estimate Std. Error z value Pr(>|z|)    \n",
       "(Intercept)                       -3.65710    0.03008 -121.59   <2e-16 ***\n",
       "last_pymnt_from_issue_cat(92,184] -1.38443    0.05294  -26.15   <2e-16 ***\n",
       "---\n",
       "Signif. codes:  0 ‘***’ 0.001 ‘**’ 0.01 ‘*’ 0.05 ‘.’ 0.1 ‘ ’ 1\n",
       "\n",
       "(Dispersion parameter for binomial family taken to be 1)\n",
       "\n",
       "    Null deviance: 17749  on 127598  degrees of freedom\n",
       "Residual deviance: 16999  on 127597  degrees of freedom\n",
       "AIC: 17003\n",
       "\n",
       "Number of Fisher Scoring iterations: 7\n"
      ]
     },
     "metadata": {},
     "output_type": "display_data"
    }
   ],
   "source": [
    "with(loan, table(loan_status_binary, last_pymnt_from_issue_cat))\n",
    "mod1 <- glm(loan_status_binary ~ last_pymnt_from_issue_cat,\n",
    "            subset(loan, !last_pymnt_from_issue_cat %in% c('no pymnt', '(-1,0]')), family = 'binomial')\n",
    "summary(mod1)\n"
   ]
  },
  {
   "cell_type": "code",
   "execution_count": 196,
   "metadata": {},
   "outputs": [],
   "source": [
    "# feature processing\n",
    "date.cols <- colnames(loan)[c(which(grepl('_d$', colnames(loan))),\n",
    "                              which(grepl('_date$', colnames(loan))))]\n",
    "# \"issue_d\"                   \"last_pymnt_d\"              \"next_pymnt_d\"             \n",
    "# \"last_credit_pull_d\"        \"hardship_start_date\"       \"hardship_end_date\"        \n",
    "# \"payment_plan_start_date\"   \"debt_settlement_flag_date\" \"settlement_date\"          \n",
    "\n",
    "for (col_i in date.cols) {\n",
    "  loan[, col_i] <-  as.Date(as.yearmon(loan[, col_i], \"%b-%Y\"))\n",
    "}\n"
   ]
  },
  {
   "cell_type": "code",
   "execution_count": 197,
   "metadata": {},
   "outputs": [],
   "source": [
    "loan$mths_since_issue <- as.integer((as.Date('2018-11-01') - loan$issue_d) /30)\n",
    "loan$mths_since_last_credit_pull <- as.integer((as.Date('2018-11-01') - loan$last_credit_pull_d) /30)\n"
   ]
  },
  {
   "cell_type": "code",
   "execution_count": 198,
   "metadata": {},
   "outputs": [],
   "source": [
    "TransformToLengthFromIssueDate <- function(loan, col.name, new.col.name, other.level) {\n",
    "  # get difference in months.\n",
    "  loan[, new.col.name] <-\n",
    "    ifelse(is.na(loan[, col.name]), other.level,\n",
    "           as.character(cut(as.integer((loan[, col.name] - loan$issue_d) /30), \n",
    "                            c(min(as.integer((loan[, col.name] - loan$issue_d) /30), na.rm = T) - 1,\n",
    "                              quantile(as.integer((loan[, col.name] - loan$issue_d) /30), c(0.1), na.rm = T)-0.5,\n",
    "                              quantile(as.integer((loan[, col.name] - loan$issue_d) /30), c(0.9), na.rm = T)+0.5,\n",
    "                              max(as.integer((loan[, col.name] - loan$issue_d) /30), na.rm = T)))))\n",
    "  return(loan)\n",
    "}\n",
    "loan <- TransformToLengthFromIssueDate(loan, 'hardship_start_date' ,'hardship_since_issue', 'no_hs')\n",
    "loan <- TransformToLengthFromIssueDate(loan, 'settlement_date' ,'settlement_since_issue', 'no_settle')\n",
    "loan <- loan[, -which(colnames(loan) %in% date.cols)]\n"
   ]
  },
  {
   "cell_type": "code",
   "execution_count": 199,
   "metadata": {},
   "outputs": [
    {
     "data": {
      "text/html": [
       "<ol class=list-inline>\n",
       "\t<li>'id'</li>\n",
       "\t<li>'emp_title'</li>\n",
       "\t<li>'url'</li>\n",
       "\t<li>'zip_code'</li>\n",
       "\t<li>'addr_state'</li>\n",
       "\t<li>'earliest_cr_line'</li>\n",
       "\t<li>'revol_util'</li>\n",
       "\t<li>'sec_app_earliest_cr_line'</li>\n",
       "</ol>\n"
      ],
      "text/latex": [
       "\\begin{enumerate*}\n",
       "\\item 'id'\n",
       "\\item 'emp\\_title'\n",
       "\\item 'url'\n",
       "\\item 'zip\\_code'\n",
       "\\item 'addr\\_state'\n",
       "\\item 'earliest\\_cr\\_line'\n",
       "\\item 'revol\\_util'\n",
       "\\item 'sec\\_app\\_earliest\\_cr\\_line'\n",
       "\\end{enumerate*}\n"
      ],
      "text/markdown": [
       "1. 'id'\n",
       "2. 'emp_title'\n",
       "3. 'url'\n",
       "4. 'zip_code'\n",
       "5. 'addr_state'\n",
       "6. 'earliest_cr_line'\n",
       "7. 'revol_util'\n",
       "8. 'sec_app_earliest_cr_line'\n",
       "\n",
       "\n"
      ],
      "text/plain": [
       "[1] \"id\"                       \"emp_title\"               \n",
       "[3] \"url\"                      \"zip_code\"                \n",
       "[5] \"addr_state\"               \"earliest_cr_line\"        \n",
       "[7] \"revol_util\"               \"sec_app_earliest_cr_line\""
      ]
     },
     "metadata": {},
     "output_type": "display_data"
    }
   ],
   "source": [
    "# remove features with same value\n",
    "# treat features with too many values\n",
    "num.value <- sapply(loan, function(x){return(length(unique(x)))})\n",
    "colnames(loan)[intersect(which(sapply(loan, function(x){return(is.character(x))})),\n",
    "                         which(num.value >= 50))]"
   ]
  },
  {
   "cell_type": "code",
   "execution_count": 200,
   "metadata": {},
   "outputs": [
    {
     "data": {
      "text/html": [
       "<ol class=list-inline>\n",
       "\t<li>' 10.33%'</li>\n",
       "\t<li>' 13.56%'</li>\n",
       "\t<li>' 13.56%'</li>\n",
       "\t<li>' 14.47%'</li>\n",
       "\t<li>' 17.97%'</li>\n",
       "\t<li>' 23.40%'</li>\n",
       "</ol>\n"
      ],
      "text/latex": [
       "\\begin{enumerate*}\n",
       "\\item ' 10.33\\%'\n",
       "\\item ' 13.56\\%'\n",
       "\\item ' 13.56\\%'\n",
       "\\item ' 14.47\\%'\n",
       "\\item ' 17.97\\%'\n",
       "\\item ' 23.40\\%'\n",
       "\\end{enumerate*}\n"
      ],
      "text/markdown": [
       "1. ' 10.33%'\n",
       "2. ' 13.56%'\n",
       "3. ' 13.56%'\n",
       "4. ' 14.47%'\n",
       "5. ' 17.97%'\n",
       "6. ' 23.40%'\n",
       "\n",
       "\n"
      ],
      "text/plain": [
       "[1] \" 10.33%\" \" 13.56%\" \" 13.56%\" \" 14.47%\" \" 17.97%\" \" 23.40%\""
      ]
     },
     "metadata": {},
     "output_type": "display_data"
    },
    {
     "data": {
      "text/html": [
       "<ol class=list-inline>\n",
       "\t<li>'38%'</li>\n",
       "\t<li>'10.3%'</li>\n",
       "\t<li>'55.5%'</li>\n",
       "\t<li>'37.2%'</li>\n",
       "\t<li>'24.8%'</li>\n",
       "\t<li>'37.5%'</li>\n",
       "</ol>\n"
      ],
      "text/latex": [
       "\\begin{enumerate*}\n",
       "\\item '38\\%'\n",
       "\\item '10.3\\%'\n",
       "\\item '55.5\\%'\n",
       "\\item '37.2\\%'\n",
       "\\item '24.8\\%'\n",
       "\\item '37.5\\%'\n",
       "\\end{enumerate*}\n"
      ],
      "text/markdown": [
       "1. '38%'\n",
       "2. '10.3%'\n",
       "3. '55.5%'\n",
       "4. '37.2%'\n",
       "5. '24.8%'\n",
       "6. '37.5%'\n",
       "\n",
       "\n"
      ],
      "text/plain": [
       "[1] \"38%\"   \"10.3%\" \"55.5%\" \"37.2%\" \"24.8%\" \"37.5%\""
      ]
     },
     "metadata": {},
     "output_type": "display_data"
    },
    {
     "data": {
      "text/html": [
       "<dl class=dl-horizontal>\n",
       "\t<dt>int_rate</dt>\n",
       "\t\t<dd>7</dd>\n",
       "\t<dt>revol_util</dt>\n",
       "\t\t<dd>35</dd>\n",
       "</dl>\n"
      ],
      "text/latex": [
       "\\begin{description*}\n",
       "\\item[int\\textbackslash{}\\_rate] 7\n",
       "\\item[revol\\textbackslash{}\\_util] 35\n",
       "\\end{description*}\n"
      ],
      "text/markdown": [
       "int_rate\n",
       ":   7revol_util\n",
       ":   35\n",
       "\n"
      ],
      "text/plain": [
       "  int_rate revol_util \n",
       "         7         35 "
      ]
     },
     "metadata": {},
     "output_type": "display_data"
    }
   ],
   "source": [
    "# clear the features which are supposed to be numeric but not\n",
    "head(loan$int_rate)\n",
    "head(loan$revol_util)\n",
    "# check which fields have this case\n",
    "which(sapply(loan[1,], function(x){return(grepl('%', x))}))\n",
    "loan$int_rate <- as.numeric(sapply(strsplit(loan$int_rate, '%'), '[', 1))\n",
    "loan$revol_util <- as.numeric(sapply(strsplit(loan$revol_util, '%'), '[', 1))\n"
   ]
  },
  {
   "cell_type": "code",
   "execution_count": 201,
   "metadata": {},
   "outputs": [
    {
     "data": {
      "text/html": [
       "<ol class=list-inline>\n",
       "\t<li>'Jan-1996'</li>\n",
       "\t<li>'Apr-2001'</li>\n",
       "\t<li>'Aug-2005'</li>\n",
       "\t<li>'Oct-1999'</li>\n",
       "\t<li>'Oct-2005'</li>\n",
       "\t<li>'Sep-2003'</li>\n",
       "</ol>\n"
      ],
      "text/latex": [
       "\\begin{enumerate*}\n",
       "\\item 'Jan-1996'\n",
       "\\item 'Apr-2001'\n",
       "\\item 'Aug-2005'\n",
       "\\item 'Oct-1999'\n",
       "\\item 'Oct-2005'\n",
       "\\item 'Sep-2003'\n",
       "\\end{enumerate*}\n"
      ],
      "text/markdown": [
       "1. 'Jan-1996'\n",
       "2. 'Apr-2001'\n",
       "3. 'Aug-2005'\n",
       "4. 'Oct-1999'\n",
       "5. 'Oct-2005'\n",
       "6. 'Sep-2003'\n",
       "\n",
       "\n"
      ],
      "text/plain": [
       "[1] \"Jan-1996\" \"Apr-2001\" \"Aug-2005\" \"Oct-1999\" \"Oct-2005\" \"Sep-2003\""
      ]
     },
     "metadata": {},
     "output_type": "display_data"
    }
   ],
   "source": [
    "head(loan$earliest_cr_line)\n",
    "loan$earliest_cr_line <- as.Date(as.yearmon(loan$earliest_cr_line, \"%b-%Y\"))\n",
    "# convert to month unit\n",
    "loan$earliest_cr_line <- as.integer((as.Date('2018-11-01') - loan$earliest_cr_line)/30)"
   ]
  },
  {
   "cell_type": "code",
   "execution_count": 202,
   "metadata": {},
   "outputs": [],
   "source": [
    "# clean the categorical variables which have too much levels (merge to some extent)\n",
    "# list out candidate variables (with levels greater than 50)\n",
    "feat.w.many.levels <- colnames(loan)[intersect(which(sapply(loan, function(x){return (is.character(x))})),\n",
    "                         which(num.value >= 50))]\n",
    "loan <- loan[, -which(colnames(loan) %in% c(names(which(num.value == 1)), feat.w.many.levels))]"
   ]
  },
  {
   "cell_type": "code",
   "execution_count": 203,
   "metadata": {},
   "outputs": [
    {
     "data": {
      "text/html": [
       "<ol class=list-inline>\n",
       "\t<li>'annual_inc_joint'</li>\n",
       "\t<li>'dti_joint'</li>\n",
       "\t<li>'verification_status_joint'</li>\n",
       "\t<li>'revol_bal_joint'</li>\n",
       "</ol>\n"
      ],
      "text/latex": [
       "\\begin{enumerate*}\n",
       "\\item 'annual\\_inc\\_joint'\n",
       "\\item 'dti\\_joint'\n",
       "\\item 'verification\\_status\\_joint'\n",
       "\\item 'revol\\_bal\\_joint'\n",
       "\\end{enumerate*}\n"
      ],
      "text/markdown": [
       "1. 'annual_inc_joint'\n",
       "2. 'dti_joint'\n",
       "3. 'verification_status_joint'\n",
       "4. 'revol_bal_joint'\n",
       "\n",
       "\n"
      ],
      "text/plain": [
       "[1] \"annual_inc_joint\"          \"dti_joint\"                \n",
       "[3] \"verification_status_joint\" \"revol_bal_joint\"          "
      ]
     },
     "metadata": {},
     "output_type": "display_data"
    }
   ],
   "source": [
    "# update features to reflect loan is jointly applied\n",
    "colnames(loan)[which(grepl('joint', colnames(loan)))]\n",
    "\n",
    "loan$dti <- ifelse(!is.na(loan$dti_joint), loan$dti_joint, loan$dti)\n",
    "loan$annual_inc <- ifelse(!is.na(loan$annual_inc_joint), loan$annual_inc_joint, loan$annual_inc)\n",
    "loan$verification_status <- ifelse(!is.na(loan$verification_status_joint), loan$verification_status_joint, loan$verification_status)\n",
    "\n",
    "loan <- loan[, -which(grepl('join', colnames(loan)))]"
   ]
  },
  {
   "cell_type": "code",
   "execution_count": 204,
   "metadata": {},
   "outputs": [
    {
     "data": {
      "text/html": [
       "<dl class=dl-horizontal>\n",
       "\t<dt>deferral_term</dt>\n",
       "\t\t<dd>128411</dd>\n",
       "\t<dt>hardship_amount</dt>\n",
       "\t\t<dd>128411</dd>\n",
       "\t<dt>hardship_length</dt>\n",
       "\t\t<dd>128411</dd>\n",
       "\t<dt>hardship_dpd</dt>\n",
       "\t\t<dd>128411</dd>\n",
       "\t<dt>orig_projected_additional_accrued_interest</dt>\n",
       "\t\t<dd>128411</dd>\n",
       "\t<dt>hardship_payoff_balance_amount</dt>\n",
       "\t\t<dd>128411</dd>\n",
       "\t<dt>hardship_last_payment_amount</dt>\n",
       "\t\t<dd>128411</dd>\n",
       "\t<dt>settlement_amount</dt>\n",
       "\t\t<dd>128407</dd>\n",
       "\t<dt>settlement_percentage</dt>\n",
       "\t\t<dd>128407</dd>\n",
       "\t<dt>settlement_term</dt>\n",
       "\t\t<dd>128407</dd>\n",
       "</dl>\n"
      ],
      "text/latex": [
       "\\begin{description*}\n",
       "\\item[deferral\\textbackslash{}\\_term] 128411\n",
       "\\item[hardship\\textbackslash{}\\_amount] 128411\n",
       "\\item[hardship\\textbackslash{}\\_length] 128411\n",
       "\\item[hardship\\textbackslash{}\\_dpd] 128411\n",
       "\\item[orig\\textbackslash{}\\_projected\\textbackslash{}\\_additional\\textbackslash{}\\_accrued\\textbackslash{}\\_interest] 128411\n",
       "\\item[hardship\\textbackslash{}\\_payoff\\textbackslash{}\\_balance\\textbackslash{}\\_amount] 128411\n",
       "\\item[hardship\\textbackslash{}\\_last\\textbackslash{}\\_payment\\textbackslash{}\\_amount] 128411\n",
       "\\item[settlement\\textbackslash{}\\_amount] 128407\n",
       "\\item[settlement\\textbackslash{}\\_percentage] 128407\n",
       "\\item[settlement\\textbackslash{}\\_term] 128407\n",
       "\\end{description*}\n"
      ],
      "text/markdown": [
       "deferral_term\n",
       ":   128411hardship_amount\n",
       ":   128411hardship_length\n",
       ":   128411hardship_dpd\n",
       ":   128411orig_projected_additional_accrued_interest\n",
       ":   128411hardship_payoff_balance_amount\n",
       ":   128411hardship_last_payment_amount\n",
       ":   128411settlement_amount\n",
       ":   128407settlement_percentage\n",
       ":   128407settlement_term\n",
       ":   128407\n",
       "\n"
      ],
      "text/plain": [
       "                             deferral_term \n",
       "                                    128411 \n",
       "                           hardship_amount \n",
       "                                    128411 \n",
       "                           hardship_length \n",
       "                                    128411 \n",
       "                              hardship_dpd \n",
       "                                    128411 \n",
       "orig_projected_additional_accrued_interest \n",
       "                                    128411 \n",
       "            hardship_payoff_balance_amount \n",
       "                                    128411 \n",
       "              hardship_last_payment_amount \n",
       "                                    128411 \n",
       "                         settlement_amount \n",
       "                                    128407 \n",
       "                     settlement_percentage \n",
       "                                    128407 \n",
       "                           settlement_term \n",
       "                                    128407 "
      ]
     },
     "metadata": {},
     "output_type": "display_data"
    }
   ],
   "source": [
    "# dealing with missing value\n",
    "num.NA <- sort(sapply(loan, function(x){sum(is.na(x))}), decreasing = TRUE)\n",
    "sort(num.NA, decreasing = TRUE)[1:10]"
   ]
  },
  {
   "cell_type": "code",
   "execution_count": 205,
   "metadata": {},
   "outputs": [
    {
     "data": {
      "text/html": [
       "<ol class=list-inline>\n",
       "\t<li>'hardship_flag'</li>\n",
       "\t<li>'hardship_type'</li>\n",
       "\t<li>'hardship_reason'</li>\n",
       "\t<li>'hardship_status'</li>\n",
       "\t<li>'hardship_amount'</li>\n",
       "\t<li>'hardship_length'</li>\n",
       "\t<li>'hardship_dpd'</li>\n",
       "\t<li>'hardship_loan_status'</li>\n",
       "\t<li>'hardship_payoff_balance_amount'</li>\n",
       "\t<li>'hardship_last_payment_amount'</li>\n",
       "\t<li>'hardship_since_issue'</li>\n",
       "</ol>\n"
      ],
      "text/latex": [
       "\\begin{enumerate*}\n",
       "\\item 'hardship\\_flag'\n",
       "\\item 'hardship\\_type'\n",
       "\\item 'hardship\\_reason'\n",
       "\\item 'hardship\\_status'\n",
       "\\item 'hardship\\_amount'\n",
       "\\item 'hardship\\_length'\n",
       "\\item 'hardship\\_dpd'\n",
       "\\item 'hardship\\_loan\\_status'\n",
       "\\item 'hardship\\_payoff\\_balance\\_amount'\n",
       "\\item 'hardship\\_last\\_payment\\_amount'\n",
       "\\item 'hardship\\_since\\_issue'\n",
       "\\end{enumerate*}\n"
      ],
      "text/markdown": [
       "1. 'hardship_flag'\n",
       "2. 'hardship_type'\n",
       "3. 'hardship_reason'\n",
       "4. 'hardship_status'\n",
       "5. 'hardship_amount'\n",
       "6. 'hardship_length'\n",
       "7. 'hardship_dpd'\n",
       "8. 'hardship_loan_status'\n",
       "9. 'hardship_payoff_balance_amount'\n",
       "10. 'hardship_last_payment_amount'\n",
       "11. 'hardship_since_issue'\n",
       "\n",
       "\n"
      ],
      "text/plain": [
       " [1] \"hardship_flag\"                  \"hardship_type\"                 \n",
       " [3] \"hardship_reason\"                \"hardship_status\"               \n",
       " [5] \"hardship_amount\"                \"hardship_length\"               \n",
       " [7] \"hardship_dpd\"                   \"hardship_loan_status\"          \n",
       " [9] \"hardship_payoff_balance_amount\" \"hardship_last_payment_amount\"  \n",
       "[11] \"hardship_since_issue\"          "
      ]
     },
     "metadata": {},
     "output_type": "display_data"
    },
    {
     "data": {
      "text/plain": [
       "   Min. 1st Qu.  Median    Mean 3rd Qu.    Max.    NA's \n",
       "   1135    1135    1135    1135    1135    1135  128411 "
      ]
     },
     "metadata": {},
     "output_type": "display_data"
    }
   ],
   "source": [
    "# explore more on columns with a majority of NAs\n",
    "colnames(loan)[which(grepl('hardship', colnames(loan)))]\n",
    "summary(loan$orig_projected_additional_accrued_interest)\n",
    "loan$orig_projected_additional_accrued_interest[which(is.na(loan$orig_projected_additional_accrued_interest))] <- 0"
   ]
  },
  {
   "cell_type": "code",
   "execution_count": 206,
   "metadata": {},
   "outputs": [],
   "source": [
    "# check the other columns to nevigate not only NAs but also empty values\n",
    "# replace the empty field with special place holder\n",
    "\n",
    "loan$hardship_reason <- ifelse(loan$hardship_reason == '', 'no_hs', loan$hardship_reason)\n",
    "loan$hardship_status <- ifelse(loan$hardship_status == '', 'no_hs', loan$hardship_status)\n",
    "loan$hardship_loan_status <- ifelse(loan$hardship_loan_status == '', 'no_hs', loan$hardship_loan_status)\n",
    "# use 0 for numeric variables\n",
    "loan$hardship_amount[which(is.na(loan$hardship_amount))] <- 0\n",
    "loan$hardship_dpd[which(is.na(loan$hardship_dpd))] <- 0\n",
    "loan$hardship_payoff_balance_amount[which(is.na(loan$hardship_payoff_balance_amount))] <- 0\n",
    "loan$hardship_last_payment_amount[which(is.na(loan$hardship_last_payment_amount))] <- 0"
   ]
  },
  {
   "cell_type": "code",
   "execution_count": 207,
   "metadata": {},
   "outputs": [],
   "source": [
    "loan <- loan[, -which(colnames(loan) %in% c('deferral_term',\n",
    "                                            'hardship_length', 'hardship_type'))]"
   ]
  },
  {
   "cell_type": "code",
   "execution_count": 208,
   "metadata": {},
   "outputs": [],
   "source": [
    "num.empty <- sapply(loan[, colnames(loan)[which(sapply(loan, function(x){return(is.character(x))}))]],\n",
    "                   function(x){return(length(which(x == \"\")))})"
   ]
  },
  {
   "cell_type": "code",
   "execution_count": 209,
   "metadata": {},
   "outputs": [
    {
     "data": {
      "text/html": [
       "<dl class=dl-horizontal>\n",
       "\t<dt>verification_status</dt>\n",
       "\t\t<dd>113564</dd>\n",
       "\t<dt>settlement_status</dt>\n",
       "\t\t<dd>128407</dd>\n",
       "</dl>\n"
      ],
      "text/latex": [
       "\\begin{description*}\n",
       "\\item[verification\\textbackslash{}\\_status] 113564\n",
       "\\item[settlement\\textbackslash{}\\_status] 128407\n",
       "\\end{description*}\n"
      ],
      "text/markdown": [
       "verification_status\n",
       ":   113564settlement_status\n",
       ":   128407\n",
       "\n"
      ],
      "text/plain": [
       "verification_status   settlement_status \n",
       "             113564              128407 "
      ]
     },
     "metadata": {},
     "output_type": "display_data"
    }
   ],
   "source": [
    "num.empty[which(num.empty > 0)]"
   ]
  },
  {
   "cell_type": "code",
   "execution_count": 210,
   "metadata": {},
   "outputs": [],
   "source": [
    "loan <- loan[, -which(colnames(loan) %in% c('verification_status','hardship_type','settlement_status'))]"
   ]
  },
  {
   "cell_type": "code",
   "execution_count": 211,
   "metadata": {},
   "outputs": [],
   "source": [
    "# do the same data cleaning for settlement\n",
    "loan$settlement_amount[which(is.na(loan$settlement_amount))] <- 0\n",
    "loan$settlement_percentage[which(is.na(loan$settlement_percentage))] <- 0\n",
    "loan$settlement_term[which(is.na(loan$settlement_term))] <- 0\n",
    "loan$settlement_since_issue <- ifelse(is.na(loan$settlement_since_issue), 'no_settlement', loan$settlement_since_issue)"
   ]
  },
  {
   "cell_type": "code",
   "execution_count": 212,
   "metadata": {},
   "outputs": [
    {
     "data": {
      "text/html": [
       "<dl class=dl-horizontal>\n",
       "\t<dt>sec_app_mths_since_last_major_derog</dt>\n",
       "\t\t<dd>123258</dd>\n",
       "\t<dt>mths_since_last_record</dt>\n",
       "\t\t<dd>112962</dd>\n",
       "\t<dt>sec_app_revol_util</dt>\n",
       "\t\t<dd>111888</dd>\n",
       "\t<dt>sec_app_fico_range_low</dt>\n",
       "\t\t<dd>111630</dd>\n",
       "\t<dt>sec_app_fico_range_high</dt>\n",
       "\t\t<dd>111630</dd>\n",
       "\t<dt>sec_app_inq_last_6mths</dt>\n",
       "\t\t<dd>111630</dd>\n",
       "\t<dt>sec_app_mort_acc</dt>\n",
       "\t\t<dd>111630</dd>\n",
       "\t<dt>sec_app_open_acc</dt>\n",
       "\t\t<dd>111630</dd>\n",
       "\t<dt>sec_app_open_act_il</dt>\n",
       "\t\t<dd>111630</dd>\n",
       "\t<dt>sec_app_num_rev_accts</dt>\n",
       "\t\t<dd>111630</dd>\n",
       "</dl>\n"
      ],
      "text/latex": [
       "\\begin{description*}\n",
       "\\item[sec\\textbackslash{}\\_app\\textbackslash{}\\_mths\\textbackslash{}\\_since\\textbackslash{}\\_last\\textbackslash{}\\_major\\textbackslash{}\\_derog] 123258\n",
       "\\item[mths\\textbackslash{}\\_since\\textbackslash{}\\_last\\textbackslash{}\\_record] 112962\n",
       "\\item[sec\\textbackslash{}\\_app\\textbackslash{}\\_revol\\textbackslash{}\\_util] 111888\n",
       "\\item[sec\\textbackslash{}\\_app\\textbackslash{}\\_fico\\textbackslash{}\\_range\\textbackslash{}\\_low] 111630\n",
       "\\item[sec\\textbackslash{}\\_app\\textbackslash{}\\_fico\\textbackslash{}\\_range\\textbackslash{}\\_high] 111630\n",
       "\\item[sec\\textbackslash{}\\_app\\textbackslash{}\\_inq\\textbackslash{}\\_last\\textbackslash{}\\_6mths] 111630\n",
       "\\item[sec\\textbackslash{}\\_app\\textbackslash{}\\_mort\\textbackslash{}\\_acc] 111630\n",
       "\\item[sec\\textbackslash{}\\_app\\textbackslash{}\\_open\\textbackslash{}\\_acc] 111630\n",
       "\\item[sec\\textbackslash{}\\_app\\textbackslash{}\\_open\\textbackslash{}\\_act\\textbackslash{}\\_il] 111630\n",
       "\\item[sec\\textbackslash{}\\_app\\textbackslash{}\\_num\\textbackslash{}\\_rev\\textbackslash{}\\_accts] 111630\n",
       "\\end{description*}\n"
      ],
      "text/markdown": [
       "sec_app_mths_since_last_major_derog\n",
       ":   123258mths_since_last_record\n",
       ":   112962sec_app_revol_util\n",
       ":   111888sec_app_fico_range_low\n",
       ":   111630sec_app_fico_range_high\n",
       ":   111630sec_app_inq_last_6mths\n",
       ":   111630sec_app_mort_acc\n",
       ":   111630sec_app_open_acc\n",
       ":   111630sec_app_open_act_il\n",
       ":   111630sec_app_num_rev_accts\n",
       ":   111630\n",
       "\n"
      ],
      "text/plain": [
       "sec_app_mths_since_last_major_derog              mths_since_last_record \n",
       "                             123258                              112962 \n",
       "                 sec_app_revol_util              sec_app_fico_range_low \n",
       "                             111888                              111630 \n",
       "            sec_app_fico_range_high              sec_app_inq_last_6mths \n",
       "                             111630                              111630 \n",
       "                   sec_app_mort_acc                    sec_app_open_acc \n",
       "                             111630                              111630 \n",
       "                sec_app_open_act_il               sec_app_num_rev_accts \n",
       "                             111630                              111630 "
      ]
     },
     "metadata": {},
     "output_type": "display_data"
    }
   ],
   "source": [
    "num.NA <- sort(sapply(loan, function(x){sum(is.na(x))}), decreasing = TRUE)\n",
    "sort(num.NA, decreasing = TRUE)[1:10]"
   ]
  },
  {
   "cell_type": "code",
   "execution_count": 213,
   "metadata": {},
   "outputs": [],
   "source": [
    "for(col_i in setdiff(names(num.NA)[which(grepl('mths_since', names(num.NA))& num.NA > 0)],\n",
    "                     c('mths_since_issue', 'mths_since_crline', 'mths_since_last_credit_pull'))) {\n",
    "  breaks <- quantile(loan[, col_i], c(0.1, 0.5, 0.9), na.rm = T)\n",
    "  breaks <- c(min(loan[, col_i], na.rm = T) - 1, breaks, max(loan[, col_i], na.rm = T))\n",
    "  loan[, col_i] <- ifelse(is.na(loan[, col_i]),\n",
    "                          'not_avail', as.character(cut(loan[, col_i], breaks = breaks)))\n",
    "}\n"
   ]
  },
  {
   "cell_type": "code",
   "execution_count": 214,
   "metadata": {
    "scrolled": true
   },
   "outputs": [
    {
     "data": {
      "text/html": [
       "<dl class=dl-horizontal>\n",
       "\t<dt>sec_app_revol_util</dt>\n",
       "\t\t<dd>111888</dd>\n",
       "\t<dt>sec_app_fico_range_low</dt>\n",
       "\t\t<dd>111630</dd>\n",
       "\t<dt>sec_app_fico_range_high</dt>\n",
       "\t\t<dd>111630</dd>\n",
       "\t<dt>sec_app_inq_last_6mths</dt>\n",
       "\t\t<dd>111630</dd>\n",
       "\t<dt>sec_app_mort_acc</dt>\n",
       "\t\t<dd>111630</dd>\n",
       "\t<dt>sec_app_open_acc</dt>\n",
       "\t\t<dd>111630</dd>\n",
       "\t<dt>sec_app_open_act_il</dt>\n",
       "\t\t<dd>111630</dd>\n",
       "\t<dt>sec_app_num_rev_accts</dt>\n",
       "\t\t<dd>111630</dd>\n",
       "\t<dt>sec_app_chargeoff_within_12_mths</dt>\n",
       "\t\t<dd>111630</dd>\n",
       "\t<dt>sec_app_collections_12_mths_ex_med</dt>\n",
       "\t\t<dd>111630</dd>\n",
       "\t<dt>il_util</dt>\n",
       "\t\t<dd>20274</dd>\n",
       "\t<dt>mo_sin_old_il_acct</dt>\n",
       "\t\t<dd>4478</dd>\n",
       "\t<dt>num_tl_120dpd_2m</dt>\n",
       "\t\t<dd>2859</dd>\n",
       "\t<dt>bc_util</dt>\n",
       "\t\t<dd>1754</dd>\n",
       "\t<dt>percent_bc_gt_75</dt>\n",
       "\t\t<dd>1692</dd>\n",
       "\t<dt>bc_open_to_buy</dt>\n",
       "\t\t<dd>1691</dd>\n",
       "\t<dt>last_pymnt_d_1</dt>\n",
       "\t\t<dd>163</dd>\n",
       "\t<dt>last_pymnt_year</dt>\n",
       "\t\t<dd>163</dd>\n",
       "\t<dt>revol_util</dt>\n",
       "\t\t<dd>156</dd>\n",
       "\t<dt>all_util</dt>\n",
       "\t\t<dd>37</dd>\n",
       "\t<dt>avg_cur_bal</dt>\n",
       "\t\t<dd>13</dd>\n",
       "\t<dt>mths_since_last_credit_pull</dt>\n",
       "\t\t<dd>1</dd>\n",
       "</dl>\n"
      ],
      "text/latex": [
       "\\begin{description*}\n",
       "\\item[sec\\textbackslash{}\\_app\\textbackslash{}\\_revol\\textbackslash{}\\_util] 111888\n",
       "\\item[sec\\textbackslash{}\\_app\\textbackslash{}\\_fico\\textbackslash{}\\_range\\textbackslash{}\\_low] 111630\n",
       "\\item[sec\\textbackslash{}\\_app\\textbackslash{}\\_fico\\textbackslash{}\\_range\\textbackslash{}\\_high] 111630\n",
       "\\item[sec\\textbackslash{}\\_app\\textbackslash{}\\_inq\\textbackslash{}\\_last\\textbackslash{}\\_6mths] 111630\n",
       "\\item[sec\\textbackslash{}\\_app\\textbackslash{}\\_mort\\textbackslash{}\\_acc] 111630\n",
       "\\item[sec\\textbackslash{}\\_app\\textbackslash{}\\_open\\textbackslash{}\\_acc] 111630\n",
       "\\item[sec\\textbackslash{}\\_app\\textbackslash{}\\_open\\textbackslash{}\\_act\\textbackslash{}\\_il] 111630\n",
       "\\item[sec\\textbackslash{}\\_app\\textbackslash{}\\_num\\textbackslash{}\\_rev\\textbackslash{}\\_accts] 111630\n",
       "\\item[sec\\textbackslash{}\\_app\\textbackslash{}\\_chargeoff\\textbackslash{}\\_within\\textbackslash{}\\_12\\textbackslash{}\\_mths] 111630\n",
       "\\item[sec\\textbackslash{}\\_app\\textbackslash{}\\_collections\\textbackslash{}\\_12\\textbackslash{}\\_mths\\textbackslash{}\\_ex\\textbackslash{}\\_med] 111630\n",
       "\\item[il\\textbackslash{}\\_util] 20274\n",
       "\\item[mo\\textbackslash{}\\_sin\\textbackslash{}\\_old\\textbackslash{}\\_il\\textbackslash{}\\_acct] 4478\n",
       "\\item[num\\textbackslash{}\\_tl\\textbackslash{}\\_120dpd\\textbackslash{}\\_2m] 2859\n",
       "\\item[bc\\textbackslash{}\\_util] 1754\n",
       "\\item[percent\\textbackslash{}\\_bc\\textbackslash{}\\_gt\\textbackslash{}\\_75] 1692\n",
       "\\item[bc\\textbackslash{}\\_open\\textbackslash{}\\_to\\textbackslash{}\\_buy] 1691\n",
       "\\item[last\\textbackslash{}\\_pymnt\\textbackslash{}\\_d\\textbackslash{}\\_1] 163\n",
       "\\item[last\\textbackslash{}\\_pymnt\\textbackslash{}\\_year] 163\n",
       "\\item[revol\\textbackslash{}\\_util] 156\n",
       "\\item[all\\textbackslash{}\\_util] 37\n",
       "\\item[avg\\textbackslash{}\\_cur\\textbackslash{}\\_bal] 13\n",
       "\\item[mths\\textbackslash{}\\_since\\textbackslash{}\\_last\\textbackslash{}\\_credit\\textbackslash{}\\_pull] 1\n",
       "\\end{description*}\n"
      ],
      "text/markdown": [
       "sec_app_revol_util\n",
       ":   111888sec_app_fico_range_low\n",
       ":   111630sec_app_fico_range_high\n",
       ":   111630sec_app_inq_last_6mths\n",
       ":   111630sec_app_mort_acc\n",
       ":   111630sec_app_open_acc\n",
       ":   111630sec_app_open_act_il\n",
       ":   111630sec_app_num_rev_accts\n",
       ":   111630sec_app_chargeoff_within_12_mths\n",
       ":   111630sec_app_collections_12_mths_ex_med\n",
       ":   111630il_util\n",
       ":   20274mo_sin_old_il_acct\n",
       ":   4478num_tl_120dpd_2m\n",
       ":   2859bc_util\n",
       ":   1754percent_bc_gt_75\n",
       ":   1692bc_open_to_buy\n",
       ":   1691last_pymnt_d_1\n",
       ":   163last_pymnt_year\n",
       ":   163revol_util\n",
       ":   156all_util\n",
       ":   37avg_cur_bal\n",
       ":   13mths_since_last_credit_pull\n",
       ":   1\n",
       "\n"
      ],
      "text/plain": [
       "                sec_app_revol_util             sec_app_fico_range_low \n",
       "                            111888                             111630 \n",
       "           sec_app_fico_range_high             sec_app_inq_last_6mths \n",
       "                            111630                             111630 \n",
       "                  sec_app_mort_acc                   sec_app_open_acc \n",
       "                            111630                             111630 \n",
       "               sec_app_open_act_il              sec_app_num_rev_accts \n",
       "                            111630                             111630 \n",
       "  sec_app_chargeoff_within_12_mths sec_app_collections_12_mths_ex_med \n",
       "                            111630                             111630 \n",
       "                           il_util                 mo_sin_old_il_acct \n",
       "                             20274                               4478 \n",
       "                  num_tl_120dpd_2m                            bc_util \n",
       "                              2859                               1754 \n",
       "                  percent_bc_gt_75                     bc_open_to_buy \n",
       "                              1692                               1691 \n",
       "                    last_pymnt_d_1                    last_pymnt_year \n",
       "                               163                                163 \n",
       "                        revol_util                           all_util \n",
       "                               156                                 37 \n",
       "                       avg_cur_bal        mths_since_last_credit_pull \n",
       "                                13                                  1 "
      ]
     },
     "metadata": {},
     "output_type": "display_data"
    }
   ],
   "source": [
    "# check NA again\n",
    "num.NA <- sort(sapply(loan, function(x){sum(is.na(x))}), decreasing = TRUE)\n",
    "sort(num.NA, decreasing = TRUE)[which(num.NA > 0)]\n"
   ]
  },
  {
   "cell_type": "code",
   "execution_count": 215,
   "metadata": {
    "scrolled": true
   },
   "outputs": [
    {
     "data": {
      "text/plain": [
       "   Min. 1st Qu.  Median    Mean 3rd Qu.    Max. \n",
       " 0.0000  0.0000  0.0000  0.3072  0.0000  6.0000 "
      ]
     },
     "metadata": {},
     "output_type": "display_data"
    },
    {
     "data": {
      "text/plain": [
       "   Min. 1st Qu.  Median    Mean 3rd Qu.    Max. \n",
       "      0       0       0   16230   24510 2119000 "
      ]
     },
     "metadata": {},
     "output_type": "display_data"
    }
   ],
   "source": [
    "# check if it's due to no open account? Not for all the cases.\n",
    "summary(subset(loan, is.na(il_util))$open_act_il)\n",
    "# is it becuz of the limit is 0? since open_act_il = total_bal_il / total_il_high_credit_limit\n",
    "# not for all the cases.\n",
    "with(subset(loan, is.na(il_util)), summary(total_il_high_credit_limit))"
   ]
  },
  {
   "cell_type": "code",
   "execution_count": 216,
   "metadata": {
    "scrolled": true
   },
   "outputs": [
    {
     "data": {
      "text/html": [
       "<table>\n",
       "<thead><tr><th></th><th scope=col>il_util</th><th scope=col>total_bal_il</th><th scope=col>total_il_high_credit_limit</th></tr></thead>\n",
       "<tbody>\n",
       "\t<tr><th scope=row>107</th><td>NA   </td><td>22698</td><td>37786</td></tr>\n",
       "\t<tr><th scope=row>109</th><td>NA   </td><td>66857</td><td>77865</td></tr>\n",
       "\t<tr><th scope=row>156</th><td>NA   </td><td>22127</td><td>38535</td></tr>\n",
       "\t<tr><th scope=row>187</th><td>NA   </td><td>38553</td><td>38553</td></tr>\n",
       "\t<tr><th scope=row>193</th><td>NA   </td><td>36008</td><td>50000</td></tr>\n",
       "\t<tr><th scope=row>210</th><td>NA   </td><td>33208</td><td>40313</td></tr>\n",
       "</tbody>\n",
       "</table>\n"
      ],
      "text/latex": [
       "\\begin{tabular}{r|lll}\n",
       "  & il\\_util & total\\_bal\\_il & total\\_il\\_high\\_credit\\_limit\\\\\n",
       "\\hline\n",
       "\t107 & NA    & 22698 & 37786\\\\\n",
       "\t109 & NA    & 66857 & 77865\\\\\n",
       "\t156 & NA    & 22127 & 38535\\\\\n",
       "\t187 & NA    & 38553 & 38553\\\\\n",
       "\t193 & NA    & 36008 & 50000\\\\\n",
       "\t210 & NA    & 33208 & 40313\\\\\n",
       "\\end{tabular}\n"
      ],
      "text/markdown": [
       "\n",
       "| <!--/--> | il_util | total_bal_il | total_il_high_credit_limit |\n",
       "|---|---|---|---|\n",
       "| 107 | NA    | 22698 | 37786 |\n",
       "| 109 | NA    | 66857 | 77865 |\n",
       "| 156 | NA    | 22127 | 38535 |\n",
       "| 187 | NA    | 38553 | 38553 |\n",
       "| 193 | NA    | 36008 | 50000 |\n",
       "| 210 | NA    | 33208 | 40313 |\n",
       "\n"
      ],
      "text/plain": [
       "    il_util total_bal_il total_il_high_credit_limit\n",
       "107 NA      22698        37786                     \n",
       "109 NA      66857        77865                     \n",
       "156 NA      22127        38535                     \n",
       "187 NA      38553        38553                     \n",
       "193 NA      36008        50000                     \n",
       "210 NA      33208        40313                     "
      ]
     },
     "metadata": {},
     "output_type": "display_data"
    }
   ],
   "source": [
    "head(loan[which(is.na(loan$il_util) & loan$total_il_high_credit_limit != 0),\n",
    "     c('il_util', 'total_bal_il', 'total_il_high_credit_limit')])"
   ]
  },
  {
   "cell_type": "code",
   "execution_count": 217,
   "metadata": {},
   "outputs": [
    {
     "data": {
      "text/plain": [
       "   Min. 1st Qu.  Median    Mean 3rd Qu.    Max. \n",
       "      0       0       0       0       0       0 "
      ]
     },
     "metadata": {},
     "output_type": "display_data"
    }
   ],
   "source": [
    "loan$il_util <- ifelse(is.na(loan$il_util) & loan$total_il_high_credit_limit != 0,\n",
    "                      loan$total_bal_il / loan$total_il_high_credit_limit, loan$il_util)\n",
    "summary(subset(loan, is.na(il_util) & total_il_high_credit_limit == 0)$open_act_il)"
   ]
  },
  {
   "cell_type": "code",
   "execution_count": 218,
   "metadata": {},
   "outputs": [
    {
     "data": {
      "text/plain": [
       "\n",
       "(-0.01,27]    (27,95]   (95,428]      no_il \n",
       "     11620      91292      10309      15191 "
      ]
     },
     "metadata": {},
     "output_type": "display_data"
    }
   ],
   "source": [
    "loan$il_util <-  ifelse(is.na(loan$il_util), 'no_il',\n",
    "                        as.character(cut(loan$il_util, \n",
    "                                         c(min(loan$il_util, na.rm = T) - 0.01,\n",
    "                                           quantile(loan$il_util, na.rm = T, c(0.1, 0.9)),\n",
    "                                           max(loan$il_util, na.rm = T)))))\n",
    "table(loan$il_util)"
   ]
  },
  {
   "cell_type": "code",
   "execution_count": 219,
   "metadata": {},
   "outputs": [],
   "source": [
    "loan$mo_sin_old_il_acct <- ifelse(is.na(loan$mo_sin_old_il_acct), 'no_il',\n",
    "                                  as.character(cut(loan$mo_sin_old_il_acct,\n",
    "                                                  c(min(loan$mo_sin_old_il_acct, na.rm=T)-0.01,\n",
    "                                                    quantile(loan$mo_sin_old_il_acct, na.rm=T, c(0.1,0.9)),\n",
    "                                                    max(loan$mo_sin_old_il_acct, na.rm=T)))))\n"
   ]
  },
  {
   "cell_type": "code",
   "execution_count": 220,
   "metadata": {},
   "outputs": [
    {
     "data": {
      "text/plain": [
       "   Min. 1st Qu.  Median    Mean 3rd Qu.    Max. \n",
       "   2.00    8.00   11.00   12.01   15.00   63.00 "
      ]
     },
     "metadata": {},
     "output_type": "display_data"
    }
   ],
   "source": [
    "# check if it's due to no open account\n",
    "summary(subset(loan, is.na(num_tl_120dpd_2m))$open_acc)\n",
    "# with(subset(loan, is.na(num_tl_120dpd_2m)), summary(num_tl_30dpd))\n",
    "loan$num_tl_120dpd_2m <- ifelse(is.na(loan$num_tl_120dpd_2m), 0, loan$num_tl_120dpd_2m)"
   ]
  },
  {
   "cell_type": "code",
   "execution_count": 221,
   "metadata": {},
   "outputs": [],
   "source": [
    "num.NA <- sort(sapply(loan, function(x) { sum(is.na(x))}), decreasing = TRUE)\n",
    "# manipulate the data, use dependent's median to fill in the NA value\n",
    "for(col_i in names(num.NA)[num.NA > 0]) {\n",
    "  loan[, col_i] <- ifelse(is.na(loan[, col_i]), median(loan[, col_i], na.rm = T), loan[, col_i])\n",
    "}\n"
   ]
  },
  {
   "cell_type": "code",
   "execution_count": 166,
   "metadata": {},
   "outputs": [],
   "source": [
    "loan$loan_status_binary <- relevel(loan$loan_status_binary, ref = 'okay')\n",
    "loan <- loan[, -which(colnames(loan) %in% c('grade', 'int_rate', 'sub_grade', 'policy_code'))]"
   ]
  },
  {
   "cell_type": "code",
   "execution_count": 227,
   "metadata": {},
   "outputs": [],
   "source": [
    "numeric.feats <- colnames(loan)[which(sapply(loan, function(x){return(is.numeric(x))}))]"
   ]
  },
  {
   "cell_type": "code",
   "execution_count": 236,
   "metadata": {},
   "outputs": [],
   "source": [
    "for(col_i in numeric.feats) {\n",
    "  formula = paste(col_i, \" ~ loan_status_binary\")\n",
    "  p.val <- t.test(as.formula(formula), data = loan)$p.value\n",
    "  if(!is.na(p.val)){\n",
    "      if(p.val >= 0.05) {\n",
    "        loan[, col_i] <- NULL\n",
    "      }      \n",
    "  }\n",
    "}"
   ]
  },
  {
   "cell_type": "code",
   "execution_count": 240,
   "metadata": {
    "scrolled": true
   },
   "outputs": [
    {
     "name": "stderr",
     "output_type": "stream",
     "text": [
      "Warning message in chisq.test(x = loan[, col_i], y = loan$loan_status_binary):\n",
      "“Chi-squared approximation may be incorrect”Warning message in chisq.test(x = loan[, col_i], y = loan$loan_status_binary):\n",
      "“Chi-squared approximation may be incorrect”Warning message in chisq.test(x = loan[, col_i], y = loan$loan_status_binary):\n",
      "“Chi-squared approximation may be incorrect”Warning message in chisq.test(x = loan[, col_i], y = loan$loan_status_binary):\n",
      "“Chi-squared approximation may be incorrect”Warning message in chisq.test(x = loan[, col_i], y = loan$loan_status_binary):\n",
      "“Chi-squared approximation may be incorrect”Warning message in chisq.test(x = loan[, col_i], y = loan$loan_status_binary):\n",
      "“Chi-squared approximation may be incorrect”Warning message in chisq.test(x = loan[, col_i], y = loan$loan_status_binary):\n",
      "“Chi-squared approximation may be incorrect”Warning message in chisq.test(x = loan[, col_i], y = loan$loan_status_binary):\n",
      "“Chi-squared approximation may be incorrect”Warning message in chisq.test(x = loan[, col_i], y = loan$loan_status_binary):\n",
      "“Chi-squared approximation may be incorrect”Warning message in chisq.test(x = loan[, col_i], y = loan$loan_status_binary):\n",
      "“Chi-squared approximation may be incorrect”Warning message in chisq.test(x = loan[, col_i], y = loan$loan_status_binary):\n",
      "“Chi-squared approximation may be incorrect”Warning message in chisq.test(x = loan[, col_i], y = loan$loan_status_binary):\n",
      "“Chi-squared approximation may be incorrect”Warning message in chisq.test(x = loan[, col_i], y = loan$loan_status_binary):\n",
      "“Chi-squared approximation may be incorrect”Warning message in chisq.test(x = loan[, col_i], y = loan$loan_status_binary):\n",
      "“Chi-squared approximation may be incorrect”Warning message in chisq.test(x = loan[, col_i], y = loan$loan_status_binary):\n",
      "“Chi-squared approximation may be incorrect”"
     ]
    }
   ],
   "source": [
    "cat.feats <- colnames(loan)[which(sapply(loan, function(x){return(is.character(x))}))]\n",
    "cat.feats <- setdiff(cat.feats, 'loan_status_binary')\n",
    "for(col_i in cat.feats){\n",
    "    p.val <- chisq.test(x = loan[, col_i], y = loan$loan_status_binary)$p.value\n",
    "    if(p.val >= 0.05){\n",
    "        loan[, col_i] <- NULL\n",
    "    }\n",
    "}"
   ]
  },
  {
   "cell_type": "code",
   "execution_count": 241,
   "metadata": {},
   "outputs": [
    {
     "data": {
      "text/plain": [
       "   Min. 1st Qu.  Median    Mean 3rd Qu.    Max. \n",
       "  664.0   684.0   704.0   709.8   729.0   850.0 "
      ]
     },
     "metadata": {},
     "output_type": "display_data"
    }
   ],
   "source": [
    "summary(loan$fico_range_high)"
   ]
  },
  {
   "cell_type": "code",
   "execution_count": null,
   "metadata": {},
   "outputs": [],
   "source": [
    "loan$fico_range_high <- NULL\n",
    "loan$fico_range_low <- NULL\n",
    "loan$last_fico <- with(loan, (last_fico_range_high + last_fico_range_low)/2)\n",
    "loan$last_fico_range_high <- loan$last_fico_range_low <- NULL\n"
   ]
  },
  {
   "cell_type": "code",
   "execution_count": 245,
   "metadata": {},
   "outputs": [
    {
     "data": {
      "text/plain": [
       "\n",
       "< 3 years > 8 years 4-7 years       n/a \n",
       "    45998     45703     25007     11704 "
      ]
     },
     "metadata": {},
     "output_type": "display_data"
    }
   ],
   "source": [
    "loan$emp_length <- ifelse(loan$emp_length == 'n/a', loan$emp_length,\n",
    "                          ifelse(loan$emp_length %in% c('< 1 year', '1 year', '2 years', '3 years'),\n",
    "                            '< 3 years', ifelse(loan$emp_length %in% c('4 years', '5 years', '6 years', '7 years'),\n",
    "                                                     '4-7 years', '> 8 years')))\n",
    "table(loan$emp_length)"
   ]
  },
  {
   "cell_type": "code",
   "execution_count": 248,
   "metadata": {},
   "outputs": [],
   "source": [
    "# start to build simple model to set up the benchmark model\n",
    "set.seed(42)\n",
    "train.ind <- sample(1:dim(loan)[1], 0.7*dim(loan)[1])\n",
    "train <- loan[train.ind, ]\n",
    "test <- loan[-train.ind, ]"
   ]
  },
  {
   "cell_type": "code",
   "execution_count": 249,
   "metadata": {},
   "outputs": [
    {
     "name": "stderr",
     "output_type": "stream",
     "text": [
      "Loading required package: Matrix\n",
      "\n",
      "Attaching package: ‘Matrix’\n",
      "\n",
      "The following object is masked from ‘package:tidyr’:\n",
      "\n",
      "    expand\n",
      "\n",
      "Loading required package: foreach\n",
      "\n",
      "Attaching package: ‘foreach’\n",
      "\n",
      "The following objects are masked from ‘package:purrr’:\n",
      "\n",
      "    accumulate, when\n",
      "\n",
      "Loaded glmnet 2.0-13\n",
      "\n"
     ]
    },
    {
     "data": {
      "text/plain": [
       "[1] \"2019-04-20 12:38:15 GMT\""
      ]
     },
     "metadata": {},
     "output_type": "display_data"
    },
    {
     "name": "stderr",
     "output_type": "stream",
     "text": [
      "Warning message:\n",
      "“from glmnet Fortran code (error code -2); Convergence for 2th lambda value not reached after maxit=100000 iterations; solutions for larger lambdas returned”Warning message:\n",
      "“from glmnet Fortran code (error code -2); Convergence for 2th lambda value not reached after maxit=100000 iterations; solutions for larger lambdas returned”Warning message:\n",
      "“from glmnet Fortran code (error code -2); Convergence for 2th lambda value not reached after maxit=100000 iterations; solutions for larger lambdas returned”Warning message:\n",
      "“from glmnet Fortran code (error code -2); Convergence for 2th lambda value not reached after maxit=100000 iterations; solutions for larger lambdas returned”Warning message:\n",
      "“from glmnet Fortran code (error code -2); Convergence for 2th lambda value not reached after maxit=100000 iterations; solutions for larger lambdas returned”Warning message:\n",
      "“from glmnet Fortran code (error code -2); Convergence for 2th lambda value not reached after maxit=100000 iterations; solutions for larger lambdas returned”Warning message:\n",
      "“from glmnet Fortran code (error code -2); Convergence for 2th lambda value not reached after maxit=100000 iterations; solutions for larger lambdas returned”Warning message:\n",
      "“from glmnet Fortran code (error code -2); Convergence for 2th lambda value not reached after maxit=100000 iterations; solutions for larger lambdas returned”Warning message:\n",
      "“from glmnet Fortran code (error code -2); Convergence for 2th lambda value not reached after maxit=100000 iterations; solutions for larger lambdas returned”Warning message:\n",
      "“from glmnet Fortran code (error code -2); Convergence for 2th lambda value not reached after maxit=100000 iterations; solutions for larger lambdas returned”Warning message:\n",
      "“from glmnet Fortran code (error code -2); Convergence for 2th lambda value not reached after maxit=100000 iterations; solutions for larger lambdas returned”"
     ]
    },
    {
     "data": {
      "text/plain": [
       "[1] \"2019-04-20 12:39:10 GMT\""
      ]
     },
     "metadata": {},
     "output_type": "display_data"
    }
   ],
   "source": [
    "library(glmnet)\n",
    "ind <- sparse.model.matrix(~. , train[, which(colnames(train) %in% c('loan_status_binary','loan_status'))])\n",
    "dep <- train$loan_status_binary\n",
    "Sys.time()\n",
    "cv.mod <- cv.glmnet(ind[1:10000, ], dep[1:10000], family = 'binomial')\n",
    "Sys.time()"
   ]
  },
  {
   "cell_type": "code",
   "execution_count": 252,
   "metadata": {},
   "outputs": [
    {
     "data": {
      "image/png": "[encoded data removed]",
      "text/plain": [
       "plot without title"
      ]
     },
     "metadata": {},
     "output_type": "display_data"
    }
   ],
   "source": [
    "options(repr.plot.width=4, repr.plot.height=4)\n",
    "plot(cv.mod)"
   ]
  },
  {
   "cell_type": "code",
   "execution_count": 253,
   "metadata": {},
   "outputs": [
    {
     "data": {
      "text/html": [
       "9.9e+35"
      ],
      "text/latex": [
       "9.9e+35"
      ],
      "text/markdown": [
       "9.9e+35"
      ],
      "text/plain": [
       "[1] 9.9e+35"
      ]
     },
     "metadata": {},
     "output_type": "display_data"
    },
    {
     "data": {
      "text/plain": [
       "8 x 1 sparse Matrix of class \"dgCMatrix\"\n",
       "                                      1\n",
       "(Intercept)                   -4.269191\n",
       "(Intercept)                    0.000000\n",
       "loan_statusCurrent             .       \n",
       "loan_statusFully Paid          .       \n",
       "loan_statusIn Grace Period     .       \n",
       "loan_statusLate (16-30 days)   .       \n",
       "loan_statusLate (31-120 days)  .       \n",
       "loan_status_binarypast_due     .       "
      ]
     },
     "metadata": {},
     "output_type": "display_data"
    }
   ],
   "source": [
    "cv.mod$lambda.1se\n",
    "coef(cv.mod, s = 'lambda.1se')"
   ]
  },
  {
   "cell_type": "code",
   "execution_count": null,
   "metadata": {},
   "outputs": [],
   "source": []
  }
 ],
 "metadata": {
  "kernelspec": {
   "display_name": "R",
   "language": "R",
   "name": "ir"
  },
  "language_info": {
   "codemirror_mode": "r",
   "file_extension": ".r",
   "mimetype": "text/x-r-source",
   "name": "R",
   "pygments_lexer": "r",
   "version": "3.3.2"
  }
 },
 "nbformat": 4,
 "nbformat_minor": 1
}
