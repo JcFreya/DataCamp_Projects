{
 "cells": [
  {
   "cell_type": "markdown",
   "metadata": {},
   "source": [
    "# Spanish Translation A/B Test\n",
    "__- Author: Fan Yuan__  \n",
    "__- Date: 03/25/2019__\n",
    "\n",
    "## Context:\n",
    "A worldwide e-commerce site with localized versions of the site want to test whther the conversion rate will be higher if the localized version is translated by a local instead of all Spanish-speaking countries using the same version of translation.\n",
    "After the experiment, they found that the non-localized translation was doing better.\n",
    "\n",
    "## Project goal:\n",
    "* Confirm that the test is actually negative. That is, it appears that the old version of the site with just one translation across Spain and LatAm performs better\n",
    "* Explain why that might be happening. Are the localized translations really worse?\n",
    "* Design an algorithm tthat would return FALSE if the same problem is happening in the future and TRUE if everything is good and the results can be trusted\n",
    "\n",
    "## Data:\n",
    "### test_table -- Columns:\n",
    "* __user_id__: the id of the user. Unique by user. Can be joined to user id in the other table. For each user, we just check whether conversion happens the first time they land on the site since the test started\n",
    "* __date__: when they came the the site for the first time since the test started\n",
    "* __source__: marketing channel source\n",
    "    + Ads: came to the site by clicking on an advertisement\n",
    "    + Soe: came to the site by clicking on search results\n",
    "    + Direct: came to the site by directly typing the URL on the browser\n",
    "* __device__: device used by the user, it can be mobile or web\n",
    "* __browser_language__: in browser or app settings, the language chosen by the user. It can be EN, ES, Other\n",
    "* __ads_channel__: if marketing channel is ads, this is the site where teh ad was displayed. It can be: Google, Facebook, Bing, Yahoo, Other. If the user didn't come via an ad, this field is NA\n",
    "* __browser__: user browser. It can be: IE, Chrome, Android_App, FireFox, Iphone_app, Safari, Opera\n",
    "* __conversion__: whether the user converted (1) or not (0). This is the label. A test is considered successful if it increases the proportion of users who convert\n",
    "* __test__: users are randomly split into test (1) and control (0). Test users see the new translation and control the old one. For Spain-based users, this is obviously always 0 since there is no change there\n",
    "\n",
    "### user_table -- Columns:\n",
    "* __user_id__: the id of the user. It can be joined to user id in the other table\n",
    "* __sex__: user sex: Male or Female\n",
    "* __age__: user age (self-reported)\n",
    "* __country__: user country based on ip address\n"
   ]
  },
  {
   "cell_type": "code",
   "execution_count": 2,
   "metadata": {},
   "outputs": [
    {
     "name": "stderr",
     "output_type": "stream",
     "text": [
      "── \u001b[1mAttaching packages\u001b[22m ─────────────────────────────────────── tidyverse 1.2.1 ──\n",
      "\u001b[32m✔\u001b[39m \u001b[34mggplot2\u001b[39m 3.1.0       \u001b[32m✔\u001b[39m \u001b[34mpurrr  \u001b[39m 0.3.2  \n",
      "\u001b[32m✔\u001b[39m \u001b[34mtibble \u001b[39m 2.1.1       \u001b[32m✔\u001b[39m \u001b[34mdplyr  \u001b[39m 0.8.0.\u001b[31m1\u001b[39m\n",
      "\u001b[32m✔\u001b[39m \u001b[34mtidyr  \u001b[39m 0.8.3       \u001b[32m✔\u001b[39m \u001b[34mstringr\u001b[39m 1.3.0  \n",
      "\u001b[32m✔\u001b[39m \u001b[34mreadr  \u001b[39m 1.3.1       \u001b[32m✔\u001b[39m \u001b[34mforcats\u001b[39m 0.4.0  \n",
      "── \u001b[1mConflicts\u001b[22m ────────────────────────────────────────── tidyverse_conflicts() ──\n",
      "\u001b[31m✖\u001b[39m \u001b[34mdplyr\u001b[39m::\u001b[32mfilter()\u001b[39m masks \u001b[34mstats\u001b[39m::filter()\n",
      "\u001b[31m✖\u001b[39m \u001b[34mdplyr\u001b[39m::\u001b[32mlag()\u001b[39m    masks \u001b[34mstats\u001b[39m::lag()\n"
     ]
    }
   ],
   "source": [
    "# Import the libraries\n",
    "library(tidyverse)\n",
    "library(rpart)"
   ]
  },
  {
   "cell_type": "code",
<<<<<<< HEAD
   "execution_count": 16,
   "metadata": {},
   "outputs": [],
   "source": [
    "# Read data\n",
    "user <- read.csv('./Data/Translation_Test/user_table.csv')\n",
    "test <- read.csv('./Data/Translation_Test/test_table.csv')\n"
=======
   "execution_count": 3,
   "metadata": {},
   "outputs": [
    {
     "name": "stderr",
     "output_type": "stream",
     "text": [
      "Parsed with column specification:\n",
      "cols(\n",
      "  user_id = \u001b[32mcol_double()\u001b[39m,\n",
      "  sex = \u001b[31mcol_character()\u001b[39m,\n",
      "  age = \u001b[32mcol_double()\u001b[39m,\n",
      "  country = \u001b[31mcol_character()\u001b[39m\n",
      ")\n",
      "Parsed with column specification:\n",
      "cols(\n",
      "  user_id = \u001b[32mcol_double()\u001b[39m,\n",
      "  date = \u001b[34mcol_date(format = \"\")\u001b[39m,\n",
      "  source = \u001b[31mcol_character()\u001b[39m,\n",
      "  device = \u001b[31mcol_character()\u001b[39m,\n",
      "  browser_language = \u001b[31mcol_character()\u001b[39m,\n",
      "  ads_channel = \u001b[31mcol_character()\u001b[39m,\n",
      "  browser = \u001b[31mcol_character()\u001b[39m,\n",
      "  conversion = \u001b[32mcol_double()\u001b[39m,\n",
      "  test = \u001b[32mcol_double()\u001b[39m\n",
      ")\n"
     ]
    }
   ],
   "source": [
    "# Read data\n",
    "user <- read_csv('Translation_Test/user_table.csv')\n",
    "test <- read_csv('Translation_Test/test_table.csv')\n"
>>>>>>> 2d2b9dd0e810b014b6d27ba65256a25cecdccfe5
   ]
  },
  {
   "cell_type": "code",
<<<<<<< HEAD
   "execution_count": 17,
=======
   "execution_count": 6,
>>>>>>> 2d2b9dd0e810b014b6d27ba65256a25cecdccfe5
   "metadata": {},
   "outputs": [
    {
     "data": {
      "text/html": [
       "TRUE"
      ],
      "text/latex": [
       "TRUE"
      ],
      "text/markdown": [
       "TRUE"
      ],
      "text/plain": [
       "[1] TRUE"
      ]
     },
     "metadata": {},
     "output_type": "display_data"
    }
   ],
   "source": [
    "# Quick check if there's duplicate in test dataset\n",
    "length(unique(test$user_id)) == length(test$user_id)"
   ]
  },
  {
   "cell_type": "code",
<<<<<<< HEAD
   "execution_count": 18,
=======
   "execution_count": 7,
>>>>>>> 2d2b9dd0e810b014b6d27ba65256a25cecdccfe5
   "metadata": {},
   "outputs": [
    {
     "data": {
      "text/html": [
       "TRUE"
      ],
      "text/latex": [
       "TRUE"
      ],
      "text/markdown": [
       "TRUE"
      ],
      "text/plain": [
       "[1] TRUE"
      ]
     },
     "metadata": {},
     "output_type": "display_data"
    }
   ],
   "source": [
    "# Quick check if there's duplicate in user dataset\n",
    "length(unique(user$user_id)) == length(user$user_id)"
   ]
  },
  {
   "cell_type": "code",
<<<<<<< HEAD
   "execution_count": 19,
=======
   "execution_count": 9,
>>>>>>> 2d2b9dd0e810b014b6d27ba65256a25cecdccfe5
   "metadata": {},
   "outputs": [
    {
     "data": {
      "text/html": [
       "-454"
      ],
      "text/latex": [
       "-454"
      ],
      "text/markdown": [
       "-454"
      ],
      "text/plain": [
       "[1] -454"
      ]
     },
     "metadata": {},
     "output_type": "display_data"
    }
   ],
   "source": [
    "# Check the number difference between test and user dataset\n",
    "length(user$user_id) - length(test$user_id)"
   ]
  },
  {
   "cell_type": "markdown",
   "metadata": {
    "collapsed": true
   },
   "source": [
    "* The user table has less number ore user ids than the test table, which means the user table lost some ids. When joining the table, should be careful not losing the ids in test table"
   ]
  },
  {
   "cell_type": "code",
<<<<<<< HEAD
   "execution_count": 20,
   "metadata": {},
   "outputs": [
    {
     "data": {
      "text/html": [
       "<table>\n",
       "<thead><tr><th scope=col>user_id</th><th scope=col>date</th><th scope=col>source</th><th scope=col>device</th><th scope=col>browser_language</th><th scope=col>ads_channel</th><th scope=col>browser</th><th scope=col>conversion</th><th scope=col>test</th><th scope=col>sex</th><th scope=col>age</th><th scope=col>country</th></tr></thead>\n",
       "<tbody>\n",
       "\t<tr><td> 1         </td><td>2015-12-02 </td><td>SEO        </td><td>Web        </td><td>EN         </td><td>NA         </td><td>Chrome     </td><td>0          </td><td>0          </td><td>M          </td><td>38         </td><td>Chile      </td></tr>\n",
       "\t<tr><td> 2         </td><td>2015-11-30 </td><td>SEO        </td><td>Mobile     </td><td>ES         </td><td>NA         </td><td>Android_App</td><td>0          </td><td>0          </td><td>M          </td><td>27         </td><td>Colombia   </td></tr>\n",
       "\t<tr><td> 3         </td><td>2015-12-03 </td><td>SEO        </td><td>Mobile     </td><td>ES         </td><td>NA         </td><td>Iphone_App </td><td>0          </td><td>1          </td><td>M          </td><td>18         </td><td>Guatemala  </td></tr>\n",
       "\t<tr><td> 5         </td><td>2015-11-30 </td><td>Ads        </td><td>Web        </td><td>ES         </td><td>Facebook   </td><td>Chrome     </td><td>0          </td><td>1          </td><td>M          </td><td>22         </td><td>Argentina  </td></tr>\n",
       "\t<tr><td> 8         </td><td>2015-12-03 </td><td>Ads        </td><td>Mobile     </td><td>ES         </td><td>Google     </td><td>Android_App</td><td>0          </td><td>1          </td><td>M          </td><td>19         </td><td>Venezuela  </td></tr>\n",
       "\t<tr><td>11         </td><td>2015-12-03 </td><td>Ads        </td><td>Web        </td><td>ES         </td><td>Yahoo      </td><td>Chrome     </td><td>0          </td><td>1          </td><td>F          </td><td>28         </td><td>Colombia   </td></tr>\n",
       "</tbody>\n",
       "</table>\n"
      ],
      "text/latex": [
       "\\begin{tabular}{r|llllllllllll}\n",
       " user\\_id & date & source & device & browser\\_language & ads\\_channel & browser & conversion & test & sex & age & country\\\\\n",
       "\\hline\n",
       "\t  1          & 2015-12-02  & SEO         & Web         & EN          & NA          & Chrome      & 0           & 0           & M           & 38          & Chile      \\\\\n",
       "\t  2            & 2015-11-30    & SEO           & Mobile        & ES            & NA            & Android\\_App & 0             & 0             & M             & 27            & Colombia     \\\\\n",
       "\t  3            & 2015-12-03    & SEO           & Mobile        & ES            & NA            & Iphone\\_App  & 0             & 1             & M             & 18            & Guatemala    \\\\\n",
       "\t  5          & 2015-11-30  & Ads         & Web         & ES          & Facebook    & Chrome      & 0           & 1           & M           & 22          & Argentina  \\\\\n",
       "\t  8            & 2015-12-03    & Ads           & Mobile        & ES            & Google        & Android\\_App & 0             & 1             & M             & 19            & Venezuela    \\\\\n",
       "\t 11          & 2015-12-03  & Ads         & Web         & ES          & Yahoo       & Chrome      & 0           & 1           & F           & 28          & Colombia   \\\\\n",
       "\\end{tabular}\n"
      ],
      "text/markdown": [
       "\n",
       "| user_id | date | source | device | browser_language | ads_channel | browser | conversion | test | sex | age | country |\n",
       "|---|---|---|---|---|---|---|---|---|---|---|---|\n",
       "|  1          | 2015-12-02  | SEO         | Web         | EN          | NA          | Chrome      | 0           | 0           | M           | 38          | Chile       |\n",
       "|  2          | 2015-11-30  | SEO         | Mobile      | ES          | NA          | Android_App | 0           | 0           | M           | 27          | Colombia    |\n",
       "|  3          | 2015-12-03  | SEO         | Mobile      | ES          | NA          | Iphone_App  | 0           | 1           | M           | 18          | Guatemala   |\n",
       "|  5          | 2015-11-30  | Ads         | Web         | ES          | Facebook    | Chrome      | 0           | 1           | M           | 22          | Argentina   |\n",
       "|  8          | 2015-12-03  | Ads         | Mobile      | ES          | Google      | Android_App | 0           | 1           | M           | 19          | Venezuela   |\n",
       "| 11          | 2015-12-03  | Ads         | Web         | ES          | Yahoo       | Chrome      | 0           | 1           | F           | 28          | Colombia    |\n",
       "\n"
      ],
      "text/plain": [
       "  user_id date       source device browser_language ads_channel browser    \n",
       "1  1      2015-12-02 SEO    Web    EN               NA          Chrome     \n",
       "2  2      2015-11-30 SEO    Mobile ES               NA          Android_App\n",
       "3  3      2015-12-03 SEO    Mobile ES               NA          Iphone_App \n",
       "4  5      2015-11-30 Ads    Web    ES               Facebook    Chrome     \n",
       "5  8      2015-12-03 Ads    Mobile ES               Google      Android_App\n",
       "6 11      2015-12-03 Ads    Web    ES               Yahoo       Chrome     \n",
       "  conversion test sex age country  \n",
       "1 0          0    M   38  Chile    \n",
       "2 0          0    M   27  Colombia \n",
       "3 0          1    M   18  Guatemala\n",
       "4 0          1    M   22  Argentina\n",
       "5 0          1    M   19  Venezuela\n",
       "6 0          1    F   28  Colombia "
      ]
     },
     "metadata": {},
     "output_type": "display_data"
    },
    {
     "data": {
      "text/plain": [
       "    user_id             date               source          device      \n",
       " Min.   :      1   Min.   :2015-11-30   Ads   :181877   Mobile:201756  \n",
       " 1st Qu.: 249816   1st Qu.:2015-12-01   Direct: 90834   Web   :251565  \n",
       " Median : 500019   Median :2015-12-03   SEO   :180610                  \n",
       " Mean   : 499938   Mean   :2015-12-02                                  \n",
       " 3rd Qu.: 749522   3rd Qu.:2015-12-04                                  \n",
       " Max.   :1000000   Max.   :2015-12-04                                  \n",
       "                                                                       \n",
       " browser_language   ads_channel            browser         conversion     \n",
       " EN   : 63137     Bing    : 13689   Android_App:155135   Min.   :0.00000  \n",
       " ES   :377547     Facebook: 68425   Chrome     :101929   1st Qu.:0.00000  \n",
       " Other: 12637     Google  : 68180   FireFox    : 40766   Median :0.00000  \n",
       "                  Other   :  4148   IE         : 61715   Mean   :0.04958  \n",
       "                  Yahoo   : 27435   Iphone_App : 46621   3rd Qu.:0.00000  \n",
       "                  NA's    :271444   Opera      :  6090   Max.   :1.00000  \n",
       "                                    Safari     : 41065                    \n",
       "      test          sex              age             country      \n",
       " Min.   :0.0000   F   :188382   Min.   :18.00   Mexico   :128484  \n",
       " 1st Qu.:0.0000   M   :264485   1st Qu.:22.00   Colombia : 54060  \n",
       " Median :0.0000   NA's:   454   Median :26.00   Spain    : 51782  \n",
       " Mean   :0.4764                 Mean   :27.13   Argentina: 46733  \n",
       " 3rd Qu.:1.0000                 3rd Qu.:31.00   Peru     : 33666  \n",
       " Max.   :1.0000                 Max.   :70.00   (Other)  :138142  \n",
       "                                NA's   :454     NA's     :   454  "
      ]
     },
     "metadata": {},
     "output_type": "display_data"
    }
   ],
   "source": [
    "# Put user and test tables together to make analysis easier\n",
    "data <- merge(test, user, by = \"user_id\", all.x = TRUE)\n",
    "data$date <- as.Date(data$date)\n",
    "\n",
    "# Explore the first several rows of data\n",
    "head(data)\n",
    "summary(data)"
=======
   "execution_count": null,
   "metadata": {
    "collapsed": true
   },
   "outputs": [],
   "source": [
    "# Put user and test tables together to make analysis easier\n"
>>>>>>> 2d2b9dd0e810b014b6d27ba65256a25cecdccfe5
   ]
  },
  {
   "cell_type": "code",
   "execution_count": null,
   "metadata": {
    "collapsed": true
   },
   "outputs": [],
<<<<<<< HEAD
   "source": [
    "# Before we check the test result, let's make sure that Spain do converts much better than the rest of LatAm countrys\n"
   ]
=======
   "source": []
>>>>>>> 2d2b9dd0e810b014b6d27ba65256a25cecdccfe5
  },
  {
   "cell_type": "code",
   "execution_count": null,
   "metadata": {
    "collapsed": true
   },
   "outputs": [],
   "source": []
  },
  {
   "cell_type": "code",
   "execution_count": null,
   "metadata": {
    "collapsed": true
   },
   "outputs": [],
   "source": []
  },
  {
   "cell_type": "code",
   "execution_count": null,
   "metadata": {
    "collapsed": true
   },
   "outputs": [],
   "source": []
  },
  {
   "cell_type": "code",
   "execution_count": null,
   "metadata": {
    "collapsed": true
   },
   "outputs": [],
   "source": []
  },
  {
   "cell_type": "code",
   "execution_count": null,
   "metadata": {
    "collapsed": true
   },
   "outputs": [],
   "source": []
  },
  {
   "cell_type": "code",
   "execution_count": null,
   "metadata": {
    "collapsed": true
   },
   "outputs": [],
   "source": []
  },
  {
   "cell_type": "code",
   "execution_count": null,
   "metadata": {
    "collapsed": true
   },
   "outputs": [],
   "source": []
  },
  {
   "cell_type": "code",
   "execution_count": null,
   "metadata": {
    "collapsed": true
   },
   "outputs": [],
   "source": []
  },
  {
   "cell_type": "code",
   "execution_count": null,
   "metadata": {
    "collapsed": true
   },
   "outputs": [],
   "source": []
  },
  {
   "cell_type": "code",
   "execution_count": null,
   "metadata": {
    "collapsed": true
   },
   "outputs": [],
   "source": []
  },
  {
   "cell_type": "code",
   "execution_count": null,
   "metadata": {
    "collapsed": true
   },
   "outputs": [],
   "source": []
  },
  {
   "cell_type": "code",
   "execution_count": null,
   "metadata": {
    "collapsed": true
   },
   "outputs": [],
   "source": []
  },
  {
   "cell_type": "code",
   "execution_count": null,
   "metadata": {
    "collapsed": true
   },
   "outputs": [],
   "source": []
  },
  {
   "cell_type": "code",
   "execution_count": null,
   "metadata": {
    "collapsed": true
   },
   "outputs": [],
   "source": []
  },
  {
   "cell_type": "code",
   "execution_count": null,
   "metadata": {
    "collapsed": true
   },
   "outputs": [],
   "source": []
  },
  {
   "cell_type": "code",
   "execution_count": null,
   "metadata": {
    "collapsed": true
   },
   "outputs": [],
   "source": []
  },
  {
   "cell_type": "code",
   "execution_count": null,
   "metadata": {
    "collapsed": true
   },
   "outputs": [],
   "source": []
  },
  {
   "cell_type": "code",
   "execution_count": null,
   "metadata": {
    "collapsed": true
   },
   "outputs": [],
   "source": []
  },
  {
   "cell_type": "code",
   "execution_count": null,
   "metadata": {
    "collapsed": true
   },
   "outputs": [],
   "source": []
  }
 ],
 "metadata": {
  "kernelspec": {
   "display_name": "R",
   "language": "R",
   "name": "ir"
  },
  "language_info": {
   "codemirror_mode": "r",
   "file_extension": ".r",
   "mimetype": "text/x-r-source",
   "name": "R",
   "pygments_lexer": "r",
   "version": "3.3.2"
  }
 },
 "nbformat": 4,
 "nbformat_minor": 2
}
