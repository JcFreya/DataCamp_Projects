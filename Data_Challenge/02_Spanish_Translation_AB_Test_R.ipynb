{
 "cells": [
  {
   "cell_type": "markdown",
   "metadata": {},
   "source": [
    "# Spanish Translation A/B Test\n",
    "__- Author: Fan Yuan__  \n",
    "__- Date: 03/25/2019__\n",
    "\n",
    "## Context:\n",
    "A worldwide e-commerce site with localized versions of the site want to test whther the conversion rate will be higher if the localized version is translated by a local instead of all Spanish-speaking countries using the same version of translation. After the experiment, they found that the non-localized translation was doing better.\n",
    "\n",
    "## Project goal:\n",
    "* Confirm that the test is actually negative. That is, it appears that the old version of the site with just one translation across Spain and LatAm performs better\n",
    "* Explain why that might be happening. Are the localized translations really worse?\n",
    "* Design an algorithm tthat would return FALSE if the same problem is happening in the future and TRUE if everything is good and the results can be trusted\n",
    "\n",
    "## Data:\n",
    "### test_table -- Columns:\n",
    "* __user_id__: the id of the user. Unique by user. Can be joined to user id in the other table. For each user, we just check whether conversion happens the first time they land on the site since the test started\n",
    "* __date__: when they came the the site for the first time since the test started\n",
    "* __source__: marketing channel source\n",
    "    + Ads: came to the site by clicking on an advertisement\n",
    "    + Soe: came to the site by clicking on search results\n",
    "    + Direct: came to the site by directly typing the URL on the browser\n",
    "* __device__: device used by the user, it can be mobile or web\n",
    "* __browser_language__: in browser or app settings, the language chosen by the user. It can be EN, ES, Other\n",
    "* __ads_channel__: if marketing channel is ads, this is the site where teh ad was displayed. It can be: Google, Facebook, Bing, Yahoo, Other. If the user didn't come via an ad, this field is NA\n",
    "* __browser__: user browser. It can be: IE, Chrome, Android_App, FireFox, Iphone_app, Safari, Opera\n",
    "* __conversion__: whether the user converted (1) or not (0). This is the label. A test is considered successful if it increases the proportion of users who convert\n",
    "* __test__: users are randomly split into test (1) and control (0). Test users see the new translation and control the old one. For Spain-based users, this is obviously always 0 since there is no change there\n",
    "\n",
    "### user_table -- Columns:\n",
    "* user_id: the id of the user. It can be joined to user id in the other table\n",
    "* sex: user sex: Male or Female\n",
    "* age: user age (self-reported)\n",
    "* country: user country based on ip address\n"
   ]
  },
  {
   "cell_type": "code",
   "execution_count": 11,
   "metadata": {},
   "outputs": [],
   "source": [
    "# Import the libraries\n",
    "library(tidyverse)\n",
    "library(rpart)\n",
    "\n",
    "# Configure the graph size\n",
    "options(repr.plot.width = 4, repr.plot.height = 3)"
   ]
  },
  {
   "cell_type": "code",
   "execution_count": 2,
   "metadata": {
    "collapsed": true
   },
   "outputs": [],
   "source": [
    "# Read data\n",
    "user <- read.csv('./Data/Translation_Test/user_table.csv')\n",
    "test <- read.csv('./Data/Translation_Test/test_table.csv')"
   ]
  },
  {
   "cell_type": "code",
   "execution_count": 3,
   "metadata": {},
   "outputs": [
    {
     "data": {
      "text/html": [
       "TRUE"
      ],
      "text/latex": [
       "TRUE"
      ],
      "text/markdown": [
       "TRUE"
      ],
      "text/plain": [
       "[1] TRUE"
      ]
     },
     "metadata": {},
     "output_type": "display_data"
    }
   ],
   "source": [
    "# Quick check if there's duplicate in test dataset\n",
    "length(unique(test$user_id)) == length(test$user_id)"
   ]
  },
  {
   "cell_type": "code",
   "execution_count": 4,
   "metadata": {},
   "outputs": [
    {
     "data": {
      "text/html": [
       "TRUE"
      ],
      "text/latex": [
       "TRUE"
      ],
      "text/markdown": [
       "TRUE"
      ],
      "text/plain": [
       "[1] TRUE"
      ]
     },
     "metadata": {},
     "output_type": "display_data"
    }
   ],
   "source": [
    "# Quick check if there's duplicate in user dataset\n",
    "length(unique(user$user_id)) == length(user$user_id)"
   ]
  },
  {
   "cell_type": "code",
   "execution_count": 5,
   "metadata": {},
   "outputs": [
    {
     "data": {
      "text/html": [
       "-454"
      ],
      "text/latex": [
       "-454"
      ],
      "text/markdown": [
       "-454"
      ],
      "text/plain": [
       "[1] -454"
      ]
     },
     "metadata": {},
     "output_type": "display_data"
    }
   ],
   "source": [
    "# Check the number difference between test and user dataset\n",
    "length(user$user_id) - length(test$user_id)"
   ]
  },
  {
   "cell_type": "markdown",
   "metadata": {},
   "source": [
    "* The user table has less number ore user ids than the test table, which means the user table lost some ids. When joining the table, should be careful not losing the ids in test table"
   ]
  },
  {
   "cell_type": "code",
   "execution_count": 7,
   "metadata": {},
   "outputs": [
    {
     "name": "stderr",
     "output_type": "stream",
     "text": [
      "Warning message in strptime(xx, f <- \"%Y-%m-%d\", tz = \"GMT\"):\n",
      "“unknown timezone 'zone/tz/2018i.1.0/zoneinfo/America/New_York'”"
     ]
    }
   ],
   "source": [
    "# Merge the user and test tables to make analysis easier\n",
    "data <- merge(user, test, by = \"user_id\", all.x = TRUE)\n",
    "data$date <- as.Date(data$date)"
   ]
  },
  {
   "cell_type": "code",
   "execution_count": 8,
   "metadata": {},
   "outputs": [
    {
     "data": {
      "text/html": [
       "<table>\n",
       "<thead><tr><th scope=col>user_id</th><th scope=col>sex</th><th scope=col>age</th><th scope=col>country</th><th scope=col>date</th><th scope=col>source</th><th scope=col>device</th><th scope=col>browser_language</th><th scope=col>ads_channel</th><th scope=col>browser</th><th scope=col>conversion</th><th scope=col>test</th></tr></thead>\n",
       "<tbody>\n",
       "\t<tr><td> 1         </td><td>M          </td><td>38         </td><td>Chile      </td><td>2015-12-02 </td><td>SEO        </td><td>Web        </td><td>EN         </td><td>NA         </td><td>Chrome     </td><td>0          </td><td>0          </td></tr>\n",
       "\t<tr><td> 2         </td><td>M          </td><td>27         </td><td>Colombia   </td><td>2015-11-30 </td><td>SEO        </td><td>Mobile     </td><td>ES         </td><td>NA         </td><td>Android_App</td><td>0          </td><td>0          </td></tr>\n",
       "\t<tr><td> 3         </td><td>M          </td><td>18         </td><td>Guatemala  </td><td>2015-12-03 </td><td>SEO        </td><td>Mobile     </td><td>ES         </td><td>NA         </td><td>Iphone_App </td><td>0          </td><td>1          </td></tr>\n",
       "\t<tr><td> 5         </td><td>M          </td><td>22         </td><td>Argentina  </td><td>2015-11-30 </td><td>Ads        </td><td>Web        </td><td>ES         </td><td>Facebook   </td><td>Chrome     </td><td>0          </td><td>1          </td></tr>\n",
       "\t<tr><td> 8         </td><td>M          </td><td>19         </td><td>Venezuela  </td><td>2015-12-03 </td><td>Ads        </td><td>Mobile     </td><td>ES         </td><td>Google     </td><td>Android_App</td><td>0          </td><td>1          </td></tr>\n",
       "\t<tr><td>11         </td><td>F          </td><td>28         </td><td>Colombia   </td><td>2015-12-03 </td><td>Ads        </td><td>Web        </td><td>ES         </td><td>Yahoo      </td><td>Chrome     </td><td>0          </td><td>1          </td></tr>\n",
       "</tbody>\n",
       "</table>\n"
      ],
      "text/latex": [
       "\\begin{tabular}{r|llllllllllll}\n",
       " user\\_id & sex & age & country & date & source & device & browser\\_language & ads\\_channel & browser & conversion & test\\\\\n",
       "\\hline\n",
       "\t  1          & M           & 38          & Chile       & 2015-12-02  & SEO         & Web         & EN          & NA          & Chrome      & 0           & 0          \\\\\n",
       "\t  2            & M             & 27            & Colombia      & 2015-11-30    & SEO           & Mobile        & ES            & NA            & Android\\_App & 0             & 0            \\\\\n",
       "\t  3            & M             & 18            & Guatemala     & 2015-12-03    & SEO           & Mobile        & ES            & NA            & Iphone\\_App  & 0             & 1            \\\\\n",
       "\t  5          & M           & 22          & Argentina   & 2015-11-30  & Ads         & Web         & ES          & Facebook    & Chrome      & 0           & 1          \\\\\n",
       "\t  8            & M             & 19            & Venezuela     & 2015-12-03    & Ads           & Mobile        & ES            & Google        & Android\\_App & 0             & 1            \\\\\n",
       "\t 11          & F           & 28          & Colombia    & 2015-12-03  & Ads         & Web         & ES          & Yahoo       & Chrome      & 0           & 1          \\\\\n",
       "\\end{tabular}\n"
      ],
      "text/markdown": [
       "\n",
       "| user_id | sex | age | country | date | source | device | browser_language | ads_channel | browser | conversion | test |\n",
       "|---|---|---|---|---|---|---|---|---|---|---|---|\n",
       "|  1          | M           | 38          | Chile       | 2015-12-02  | SEO         | Web         | EN          | NA          | Chrome      | 0           | 0           |\n",
       "|  2          | M           | 27          | Colombia    | 2015-11-30  | SEO         | Mobile      | ES          | NA          | Android_App | 0           | 0           |\n",
       "|  3          | M           | 18          | Guatemala   | 2015-12-03  | SEO         | Mobile      | ES          | NA          | Iphone_App  | 0           | 1           |\n",
       "|  5          | M           | 22          | Argentina   | 2015-11-30  | Ads         | Web         | ES          | Facebook    | Chrome      | 0           | 1           |\n",
       "|  8          | M           | 19          | Venezuela   | 2015-12-03  | Ads         | Mobile      | ES          | Google      | Android_App | 0           | 1           |\n",
       "| 11          | F           | 28          | Colombia    | 2015-12-03  | Ads         | Web         | ES          | Yahoo       | Chrome      | 0           | 1           |\n",
       "\n"
      ],
      "text/plain": [
       "  user_id sex age country   date       source device browser_language\n",
       "1  1      M   38  Chile     2015-12-02 SEO    Web    EN              \n",
       "2  2      M   27  Colombia  2015-11-30 SEO    Mobile ES              \n",
       "3  3      M   18  Guatemala 2015-12-03 SEO    Mobile ES              \n",
       "4  5      M   22  Argentina 2015-11-30 Ads    Web    ES              \n",
       "5  8      M   19  Venezuela 2015-12-03 Ads    Mobile ES              \n",
       "6 11      F   28  Colombia  2015-12-03 Ads    Web    ES              \n",
       "  ads_channel browser     conversion test\n",
       "1 NA          Chrome      0          0   \n",
       "2 NA          Android_App 0          0   \n",
       "3 NA          Iphone_App  0          1   \n",
       "4 Facebook    Chrome      0          1   \n",
       "5 Google      Android_App 0          1   \n",
       "6 Yahoo       Chrome      0          1   "
      ]
     },
     "metadata": {},
     "output_type": "display_data"
    },
    {
     "data": {
      "text/plain": [
       "    user_id        sex             age             country      \n",
       " Min.   :      1   F:188382   Min.   :18.00   Mexico   :128484  \n",
       " 1st Qu.: 249819   M:264485   1st Qu.:22.00   Colombia : 54060  \n",
       " Median : 500019              Median :26.00   Spain    : 51782  \n",
       " Mean   : 499945              Mean   :27.13   Argentina: 46733  \n",
       " 3rd Qu.: 749543              3rd Qu.:31.00   Peru     : 33666  \n",
       " Max.   :1000000              Max.   :70.00   Venezuela: 32054  \n",
       "                                              (Other)  :106088  \n",
       "      date               source          device       browser_language\n",
       " Min.   :2015-11-30   Ads   :181693   Mobile:201551   EN   : 63079    \n",
       " 1st Qu.:2015-12-01   Direct: 90738   Web   :251316   ES   :377160    \n",
       " Median :2015-12-03   SEO   :180436                   Other: 12628    \n",
       " Mean   :2015-12-02                                                   \n",
       " 3rd Qu.:2015-12-04                                                   \n",
       " Max.   :2015-12-04                                                   \n",
       "                                                                      \n",
       "   ads_channel            browser         conversion           test       \n",
       " Bing    : 13670   Android_App:154977   Min.   :0.00000   Min.   :0.0000  \n",
       " Facebook: 68358   Chrome     :101822   1st Qu.:0.00000   1st Qu.:0.0000  \n",
       " Google  : 68113   FireFox    : 40721   Median :0.00000   Median :0.0000  \n",
       " Other   :  4143   IE         : 61656   Mean   :0.04956   Mean   :0.4765  \n",
       " Yahoo   : 27409   Iphone_App : 46574   3rd Qu.:0.00000   3rd Qu.:1.0000  \n",
       " NA's    :271174   Opera      :  6084   Max.   :1.00000   Max.   :1.0000  \n",
       "                   Safari     : 41033                                     "
      ]
     },
     "metadata": {},
     "output_type": "display_data"
    }
   ],
   "source": [
    "# Explore the first several rows of the data\n",
    "head(data)\n",
    "summary(data)"
   ]
  },
  {
   "cell_type": "code",
   "execution_count": 10,
   "metadata": {},
   "outputs": [
    {
     "data": {
      "text/html": [
       "<table>\n",
       "<thead><tr><th scope=col>country</th><th scope=col>conversion</th></tr></thead>\n",
       "<tbody>\n",
       "\t<tr><td>Spain      </td><td>0.07971882 </td></tr>\n",
       "\t<tr><td>El Salvador</td><td>0.05355404 </td></tr>\n",
       "\t<tr><td>Nicaragua  </td><td>0.05264697 </td></tr>\n",
       "\t<tr><td>Costa Rica </td><td>0.05225564 </td></tr>\n",
       "\t<tr><td>Colombia   </td><td>0.05208949 </td></tr>\n",
       "\t<tr><td>Honduras   </td><td>0.05090576 </td></tr>\n",
       "</tbody>\n",
       "</table>\n"
      ],
      "text/latex": [
       "\\begin{tabular}{r|ll}\n",
       " country & conversion\\\\\n",
       "\\hline\n",
       "\t Spain       & 0.07971882 \\\\\n",
       "\t El Salvador & 0.05355404 \\\\\n",
       "\t Nicaragua   & 0.05264697 \\\\\n",
       "\t Costa Rica  & 0.05225564 \\\\\n",
       "\t Colombia    & 0.05208949 \\\\\n",
       "\t Honduras    & 0.05090576 \\\\\n",
       "\\end{tabular}\n"
      ],
      "text/markdown": [
       "\n",
       "| country | conversion |\n",
       "|---|---|\n",
       "| Spain       | 0.07971882  |\n",
       "| El Salvador | 0.05355404  |\n",
       "| Nicaragua   | 0.05264697  |\n",
       "| Costa Rica  | 0.05225564  |\n",
       "| Colombia    | 0.05208949  |\n",
       "| Honduras    | 0.05090576  |\n",
       "\n"
      ],
      "text/plain": [
       "  country     conversion\n",
       "1 Spain       0.07971882\n",
       "2 El Salvador 0.05355404\n",
       "3 Nicaragua   0.05264697\n",
       "4 Costa Rica  0.05225564\n",
       "5 Colombia    0.05208949\n",
       "6 Honduras    0.05090576"
      ]
     },
     "metadata": {},
     "output_type": "display_data"
    }
   ],
   "source": [
    "# Before checking the test result, check whether the Spain do converts better than other LatAm countries\n",
    "data_conversion_country <- data %>%\n",
    "                            group_by(country) %>% \n",
    "                            summarize(conversion = mean(conversion[test == 0])) %>%\n",
    "                            arrange(desc(conversion))\n",
    "head(data_conversion_country)"
   ]
  },
  {
   "cell_type": "markdown",
   "metadata": {},
   "source": [
    "* The result above does show that Spain converts much better than the rest LatAm countries"
   ]
  },
  {
   "cell_type": "code",
   "execution_count": 13,
   "metadata": {},
   "outputs": [
    {
     "data": {
      "text/plain": [
       "\n",
       "\tWelch Two Sample t-test\n",
       "\n",
       "data:  data_test$conversion[data_test$test == 1] and data_test$conversion[data_test$test == 0]\n",
       "t = -7.3539, df = 385260, p-value = 1.929e-13\n",
       "alternative hypothesis: true difference in means is not equal to 0\n",
       "95 percent confidence interval:\n",
       " -0.006181421 -0.003579837\n",
       "sample estimates:\n",
       " mean of x  mean of y \n",
       "0.04341116 0.04829179 \n"
      ]
     },
     "metadata": {},
     "output_type": "display_data"
    }
   ],
   "source": [
    "# Do a simple t-test\n",
    "data_test <- subset(data, country != \"Spain\")\n",
    "t.test(data_test$conversion[data_test$test == 1], data_test$conversion[data_test$test == 0])"
   ]
  },
  {
   "cell_type": "markdown",
   "metadata": {},
   "source": [
    "* The conversion of pre-test is 4.8% while the conversion of test is 4.3% which is a 10% drop. The most likely reason for this test results are:\n",
    "    + The data is not enough\n",
    "    + Some bias has been introduced in the experiment so that the test/ control people are not really random"
   ]
  },
  {
   "cell_type": "code",
   "execution_count": 14,
   "metadata": {},
   "outputs": [
    {
     "data": {
      "image/png": "[encoded data removed]",
      "text/plain": [
       "plot without title"
      ]
     },
     "metadata": {},
     "output_type": "display_data"
    }
   ],
   "source": [
    "# Plot the test data day by day to see if the pattern constantly happened or just started suddenly\n",
    "data_test_day_by_day <- data_test %>%\n",
    "                        group_by(date) %>%\n",
    "                        summarize(test_vs_control = mean(conversion[test == 1]/ mean(conversion[test == 0])))\n",
    "ggplot(data_test_day_by_day, aes(x = date, y = test_vs_control)) +\n",
    "    geom_line()"
   ]
  },
  {
   "cell_type": "markdown",
   "metadata": {},
   "source": [
    "* As the graph shown above, it shows:\n",
    "    1. Test has constantly been worse than control and there's relatively little variance across days. That probably means that we do have enough data, but there was some  bias in the experiment set up\n",
    "    2. On a side note, we just ran it for 5 days. We should always run the test for at least 1 full week to capture weekly patterns, 2 weeks would be much better"
   ]
  },
  {
   "cell_type": "markdown",
   "metadata": {},
   "source": [
    "* Probably, there's for some reason some segment of users more likely to end up in test or in control, this segment had a significantly above/ below conversion rate and affected the overall results\n",
    "* In an ideal workld, the distribution of people in test and control for each segment should be the same.\n",
    "* One way to check: build a decision tree where the variables are the user dimensions and the outcome variable is whether teh user is in test or control. If the tree splits, it means that for given values of that variable you are more likely to end up in test or control.\n",
    "* The tree should not split or at least not be able to separate the two classes "
   ]
  },
  {
   "cell_type": "code",
   "execution_count": 16,
   "metadata": {},
   "outputs": [
    {
     "data": {
      "text/plain": [
       "n= 401085 \n",
       "\n",
       "node), split, n, deviance, yval\n",
       "      * denotes terminal node\n",
       "\n",
       "1) root 401085 99692.820 0.5379757  \n",
       "  2) country=Bolivia,Chile,Colombia,Costa Rica,Ecuador,El Salvador,Guatemala,Honduras,Mexico,Nicaragua,Panama,Paraguay,Peru,Venezuela 350218 87553.970 0.4987693 *\n",
       "  3) country=Argentina,Uruguay 50867  7894.097 0.8079108 *"
      ]
     },
     "metadata": {},
     "output_type": "display_data"
    }
   ],
   "source": [
    "# Remove conversion column, and only look at 1% of the population\n",
    "tree = rpart(test ~., data_test[, -8],\n",
    "            control = rpart.control(minbucket = nrow(data_test)/100, maxdepth = 2))\n",
    "tree"
   ]
  },
  {
   "cell_type": "markdown",
   "metadata": {},
   "source": [
    "* The randomization is perfect for the countries on one side of the split (country=Bolivia,Chile,Colombia,Costa Rica,Ecuador,El Salvador,Guatemala,Honduras,Mexico,Nicaragua,Panama,Paraguay,Peru,Venezuela). In that leaf the test/ control ratio is 0.498. However, Argentina and Uruguay together have 80% test and 20% control.\n",
    "* Let's check the test results after controlling for country."
   ]
  },
  {
   "cell_type": "code",
   "execution_count": 18,
   "metadata": {},
   "outputs": [
    {
     "data": {
      "text/html": [
       "<table>\n",
       "<thead><tr><th scope=col>country</th><th scope=col>p_value</th><th scope=col>conversion_test</th><th scope=col>conversion_control</th></tr></thead>\n",
       "<tbody>\n",
       "\t<tr><td>Mexico     </td><td>0.1655437  </td><td>0.05118631 </td><td>0.04949462 </td></tr>\n",
       "\t<tr><td>El Salvador</td><td>0.2481267  </td><td>0.04794689 </td><td>0.05355404 </td></tr>\n",
       "\t<tr><td>Chile      </td><td>0.3028476  </td><td>0.05129502 </td><td>0.04810718 </td></tr>\n",
       "\t<tr><td>Argentina  </td><td>0.3351465  </td><td>0.01372502 </td><td>0.01507054 </td></tr>\n",
       "\t<tr><td>Colombia   </td><td>0.4237191  </td><td>0.05057096 </td><td>0.05208949 </td></tr>\n",
       "\t<tr><td>Honduras   </td><td>0.4714629  </td><td>0.04753981 </td><td>0.05090576 </td></tr>\n",
       "\t<tr><td>Guatemala  </td><td>0.5721072  </td><td>0.04864721 </td><td>0.05064288 </td></tr>\n",
       "\t<tr><td>Venezuela  </td><td>0.5737015  </td><td>0.04897831 </td><td>0.05034367 </td></tr>\n",
       "\t<tr><td>Costa Rica </td><td>0.6878764  </td><td>0.05473764 </td><td>0.05225564 </td></tr>\n",
       "\t<tr><td>Panama     </td><td>0.7053268  </td><td>0.04937028 </td><td>0.04679552 </td></tr>\n",
       "\t<tr><td>Bolivia    </td><td>0.7188852  </td><td>0.04790097 </td><td>0.04936937 </td></tr>\n",
       "\t<tr><td>Peru       </td><td>0.7719530  </td><td>0.05060427 </td><td>0.04991404 </td></tr>\n",
       "\t<tr><td>Nicaragua  </td><td>0.7804004  </td><td>0.05417676 </td><td>0.05264697 </td></tr>\n",
       "\t<tr><td>Uruguay    </td><td>0.8797640  </td><td>0.01290670 </td><td>0.01204819 </td></tr>\n",
       "\t<tr><td>Paraguay   </td><td>0.8836965  </td><td>0.04922910 </td><td>0.04849315 </td></tr>\n",
       "\t<tr><td>Ecuador    </td><td>0.9615117  </td><td>0.04898842 </td><td>0.04915381 </td></tr>\n",
       "</tbody>\n",
       "</table>\n"
      ],
      "text/latex": [
       "\\begin{tabular}{r|llll}\n",
       " country & p\\_value & conversion\\_test & conversion\\_control\\\\\n",
       "\\hline\n",
       "\t Mexico      & 0.1655437   & 0.05118631  & 0.04949462 \\\\\n",
       "\t El Salvador & 0.2481267   & 0.04794689  & 0.05355404 \\\\\n",
       "\t Chile       & 0.3028476   & 0.05129502  & 0.04810718 \\\\\n",
       "\t Argentina   & 0.3351465   & 0.01372502  & 0.01507054 \\\\\n",
       "\t Colombia    & 0.4237191   & 0.05057096  & 0.05208949 \\\\\n",
       "\t Honduras    & 0.4714629   & 0.04753981  & 0.05090576 \\\\\n",
       "\t Guatemala   & 0.5721072   & 0.04864721  & 0.05064288 \\\\\n",
       "\t Venezuela   & 0.5737015   & 0.04897831  & 0.05034367 \\\\\n",
       "\t Costa Rica  & 0.6878764   & 0.05473764  & 0.05225564 \\\\\n",
       "\t Panama      & 0.7053268   & 0.04937028  & 0.04679552 \\\\\n",
       "\t Bolivia     & 0.7188852   & 0.04790097  & 0.04936937 \\\\\n",
       "\t Peru        & 0.7719530   & 0.05060427  & 0.04991404 \\\\\n",
       "\t Nicaragua   & 0.7804004   & 0.05417676  & 0.05264697 \\\\\n",
       "\t Uruguay     & 0.8797640   & 0.01290670  & 0.01204819 \\\\\n",
       "\t Paraguay    & 0.8836965   & 0.04922910  & 0.04849315 \\\\\n",
       "\t Ecuador     & 0.9615117   & 0.04898842  & 0.04915381 \\\\\n",
       "\\end{tabular}\n"
      ],
      "text/markdown": [
       "\n",
       "| country | p_value | conversion_test | conversion_control |\n",
       "|---|---|---|---|\n",
       "| Mexico      | 0.1655437   | 0.05118631  | 0.04949462  |\n",
       "| El Salvador | 0.2481267   | 0.04794689  | 0.05355404  |\n",
       "| Chile       | 0.3028476   | 0.05129502  | 0.04810718  |\n",
       "| Argentina   | 0.3351465   | 0.01372502  | 0.01507054  |\n",
       "| Colombia    | 0.4237191   | 0.05057096  | 0.05208949  |\n",
       "| Honduras    | 0.4714629   | 0.04753981  | 0.05090576  |\n",
       "| Guatemala   | 0.5721072   | 0.04864721  | 0.05064288  |\n",
       "| Venezuela   | 0.5737015   | 0.04897831  | 0.05034367  |\n",
       "| Costa Rica  | 0.6878764   | 0.05473764  | 0.05225564  |\n",
       "| Panama      | 0.7053268   | 0.04937028  | 0.04679552  |\n",
       "| Bolivia     | 0.7188852   | 0.04790097  | 0.04936937  |\n",
       "| Peru        | 0.7719530   | 0.05060427  | 0.04991404  |\n",
       "| Nicaragua   | 0.7804004   | 0.05417676  | 0.05264697  |\n",
       "| Uruguay     | 0.8797640   | 0.01290670  | 0.01204819  |\n",
       "| Paraguay    | 0.8836965   | 0.04922910  | 0.04849315  |\n",
       "| Ecuador     | 0.9615117   | 0.04898842  | 0.04915381  |\n",
       "\n"
      ],
      "text/plain": [
       "   country     p_value   conversion_test conversion_control\n",
       "1  Mexico      0.1655437 0.05118631      0.04949462        \n",
       "2  El Salvador 0.2481267 0.04794689      0.05355404        \n",
       "3  Chile       0.3028476 0.05129502      0.04810718        \n",
       "4  Argentina   0.3351465 0.01372502      0.01507054        \n",
       "5  Colombia    0.4237191 0.05057096      0.05208949        \n",
       "6  Honduras    0.4714629 0.04753981      0.05090576        \n",
       "7  Guatemala   0.5721072 0.04864721      0.05064288        \n",
       "8  Venezuela   0.5737015 0.04897831      0.05034367        \n",
       "9  Costa Rica  0.6878764 0.05473764      0.05225564        \n",
       "10 Panama      0.7053268 0.04937028      0.04679552        \n",
       "11 Bolivia     0.7188852 0.04790097      0.04936937        \n",
       "12 Peru        0.7719530 0.05060427      0.04991404        \n",
       "13 Nicaragua   0.7804004 0.05417676      0.05264697        \n",
       "14 Uruguay     0.8797640 0.01290670      0.01204819        \n",
       "15 Paraguay    0.8836965 0.04922910      0.04849315        \n",
       "16 Ecuador     0.9615117 0.04898842      0.04915381        "
      ]
     },
     "metadata": {},
     "output_type": "display_data"
    }
   ],
   "source": [
    "data_test_country <- data_test %>%\n",
    "                     group_by(country) %>%\n",
    "                     summarize(p_value = t.test(conversion[test == 1],conversion[test == 0])$p.value,\n",
    "                            conversion_test = t.test(conversion[test == 1], conversion[test == 0])$estimate[1],\n",
    "                            conversion_control = t.test(conversion[test == 1], conversion[test == 0])$estimate[2]) %>%\n",
    "                     arrange(p_value)\n",
    "data_test_country"
   ]
  },
  {
   "cell_type": "markdown",
   "metadata": {},
   "source": [
    "* After we control for country, the test clearly appears non significant. Noe a great success given that the goal was to improve conversion rate, but at least we know that a localized translation didn't make things worse!"
   ]
  },
  {
   "cell_type": "code",
   "execution_count": null,
   "metadata": {
    "collapsed": true
   },
   "outputs": [],
   "source": []
  },
  {
   "cell_type": "code",
   "execution_count": null,
   "metadata": {
    "collapsed": true
   },
   "outputs": [],
   "source": []
  }
 ],
 "metadata": {
  "kernelspec": {
   "display_name": "R",
   "language": "R",
   "name": "ir"
  },
  "language_info": {
   "codemirror_mode": "r",
   "file_extension": ".r",
   "mimetype": "text/x-r-source",
   "name": "R",
   "pygments_lexer": "r",
   "version": "3.3.2"
  }
 },
 "nbformat": 4,
 "nbformat_minor": 2
}
